{
 "cells": [
  {
   "cell_type": "markdown",
   "metadata": {},
   "source": [
    "# Python Excel CSV handling\n",
    "\n",
    "> Summary\n",
    "\n",
    "- toc: true \n",
    "- badges: true\n",
    "- comments: true\n",
    "- author: Chanseok Kang\n",
    "- categories: [python, fastcampus]\n",
    "- image: "
   ]
  },
  {
   "cell_type": "markdown",
   "metadata": {},
   "source": [
    "## CSV file"
   ]
  },
  {
   "cell_type": "markdown",
   "metadata": {},
   "source": [
    "### Example 1"
   ]
  },
  {
   "cell_type": "code",
   "execution_count": 8,
   "metadata": {},
   "outputs": [
    {
     "name": "stdout",
     "output_type": "stream",
     "text": [
      "<_csv.reader object at 0x7f80214b65d0>\n",
      "<class '_csv.reader'>\n",
      "['__class__', '__delattr__', '__dir__', '__doc__', '__eq__', '__format__', '__ge__', '__getattribute__', '__gt__', '__hash__', '__init__', '__init_subclass__', '__iter__', '__le__', '__lt__', '__ne__', '__new__', '__next__', '__reduce__', '__reduce_ex__', '__repr__', '__setattr__', '__sizeof__', '__str__', '__subclasshook__', 'dialect', 'line_num']\n",
      "\n",
      "['1', '김정수', '2017-01-19 11:30:00', '25']\n",
      "['2', '박민구', '2017-02-07 10:22:00', '35']\n",
      "['3', '정순미', '2017-01-22 09:10:00', '33']\n",
      "['4', '김정현', '2017-02-22 14:09:00', '45']\n",
      "['5', '홍미진', '2017-04-01 18:00:00', '17']\n",
      "['6', '김순철', '2017-05-14 22:33:07', '22']\n",
      "['7', '이동철', '2017-03-01 23:44:45', '27']\n",
      "['8', '박지숙', '2017-01-11 06:04:18', '30']\n",
      "['9', '김은미', '2017-02-08 07:44:33', '51']\n",
      "['10', '장혁철', '2017-12-01 13:01:11', '16']\n"
     ]
    }
   ],
   "source": [
    "import csv\n",
    "\n",
    "with open('./resource/sample1.csv', 'r', encoding='euc-kr') as f:\n",
    "    reader = csv.reader(f)\n",
    "    next(reader) # Header skip\n",
    "    print(reader)\n",
    "    print(type(reader))\n",
    "    print(dir(reader))\n",
    "    print()\n",
    "    \n",
    "    for c in reader:\n",
    "        print(c)"
   ]
  },
  {
   "cell_type": "markdown",
   "metadata": {},
   "source": [
    "### Example 2"
   ]
  },
  {
   "cell_type": "code",
   "execution_count": 10,
   "metadata": {},
   "outputs": [
    {
     "name": "stdout",
     "output_type": "stream",
     "text": [
      "<_csv.reader object at 0x7f80214b6e50>\n",
      "<class '_csv.reader'>\n",
      "['__class__', '__delattr__', '__dir__', '__doc__', '__eq__', '__format__', '__ge__', '__getattribute__', '__gt__', '__hash__', '__init__', '__init_subclass__', '__iter__', '__le__', '__lt__', '__ne__', '__new__', '__next__', '__reduce__', '__reduce_ex__', '__repr__', '__setattr__', '__sizeof__', '__str__', '__subclasshook__', 'dialect', 'line_num']\n",
      "\n",
      "['1', '김정수', '2017-01-19 11:30:00', '25']\n",
      "['2', '박민구', '2017-02-07 10:22:00', '35']\n",
      "['3', '정순미', '2017-01-22 09:10:00', '33']\n",
      "['4', '김정현', '2017-02-22 14:09:00', '45']\n",
      "['5', '홍미진', '2017-04-01 18:00:00', '17']\n",
      "['6', '김순철', '2017-05-14 22:33:07', '22']\n",
      "['7', '이동철', '2017-03-01 23:44:45', '27']\n",
      "['8', '박지숙', '2017-01-11 06:04:18', '30']\n",
      "['9', '김은미', '2017-02-08 07:44:33', '51']\n",
      "['10', '장혁철', '2017-12-01 13:01:11', '16']\n"
     ]
    }
   ],
   "source": [
    "import csv\n",
    "\n",
    "with open('./resource/sample2.csv', 'r', encoding='euc-kr') as f:\n",
    "    reader = csv.reader(f, delimiter='|')\n",
    "    next(reader) # Header skip\n",
    "    print(reader)\n",
    "    print(type(reader))\n",
    "    print(dir(reader))\n",
    "    print()\n",
    "    \n",
    "    for c in reader:\n",
    "        print(c)"
   ]
  },
  {
   "cell_type": "markdown",
   "metadata": {},
   "source": [
    "### Example 3 (Dict Convert)"
   ]
  },
  {
   "cell_type": "code",
   "execution_count": 14,
   "metadata": {},
   "outputs": [
    {
     "name": "stdout",
     "output_type": "stream",
     "text": [
      "번호 1\n",
      "이름 김정수\n",
      "가입일시 2017-01-19 11:30:00\n",
      "나이 25\n",
      "---------------\n",
      "번호 2\n",
      "이름 박민구\n",
      "가입일시 2017-02-07 10:22:00\n",
      "나이 35\n",
      "---------------\n",
      "번호 3\n",
      "이름 정순미\n",
      "가입일시 2017-01-22 09:10:00\n",
      "나이 33\n",
      "---------------\n",
      "번호 4\n",
      "이름 김정현\n",
      "가입일시 2017-02-22 14:09:00\n",
      "나이 45\n",
      "---------------\n",
      "번호 5\n",
      "이름 홍미진\n",
      "가입일시 2017-04-01 18:00:00\n",
      "나이 17\n",
      "---------------\n",
      "번호 6\n",
      "이름 김순철\n",
      "가입일시 2017-05-14 22:33:07\n",
      "나이 22\n",
      "---------------\n",
      "번호 7\n",
      "이름 이동철\n",
      "가입일시 2017-03-01 23:44:45\n",
      "나이 27\n",
      "---------------\n",
      "번호 8\n",
      "이름 박지숙\n",
      "가입일시 2017-01-11 06:04:18\n",
      "나이 30\n",
      "---------------\n",
      "번호 9\n",
      "이름 김은미\n",
      "가입일시 2017-02-08 07:44:33\n",
      "나이 51\n",
      "---------------\n",
      "번호 10\n",
      "이름 장혁철\n",
      "가입일시 2017-12-01 13:01:11\n",
      "나이 16\n",
      "---------------\n"
     ]
    }
   ],
   "source": [
    "with open('./resource/sample1.csv', 'r', encoding='euc-kr') as f:\n",
    "    reader = csv.DictReader(f)\n",
    "    \n",
    "    for c in reader:\n",
    "        for k, v in c.items():\n",
    "            print(k, v)\n",
    "        print('---------------')"
   ]
  },
  {
   "cell_type": "markdown",
   "metadata": {},
   "source": [
    "### Example 4"
   ]
  },
  {
   "cell_type": "code",
   "execution_count": 15,
   "metadata": {},
   "outputs": [],
   "source": [
    "w = [[1, 2, 3], [4, 5, 6], [7, 8, 9], [10, 11, 12], [13, 14, 15], [16, 17, 18]]"
   ]
  },
  {
   "cell_type": "code",
   "execution_count": 18,
   "metadata": {},
   "outputs": [],
   "source": [
    "with open('./resource/sample_test.csv', 'w', newline='') as f:\n",
    "    wt = csv.writer(f)\n",
    "    \n",
    "    for v in w:\n",
    "        wt.writerow(v)"
   ]
  },
  {
   "cell_type": "code",
   "execution_count": 19,
   "metadata": {},
   "outputs": [
    {
     "name": "stdout",
     "output_type": "stream",
     "text": [
      "1,2,3\n",
      "4,5,6\n",
      "7,8,9\n",
      "10,11,12\n",
      "13,14,15\n",
      "16,17,18\n"
     ]
    }
   ],
   "source": [
    "!cat ./resource/sample_test.csv"
   ]
  },
  {
   "cell_type": "markdown",
   "metadata": {},
   "source": [
    "### Example 5"
   ]
  },
  {
   "cell_type": "code",
   "execution_count": 20,
   "metadata": {},
   "outputs": [],
   "source": [
    "with open('./resource/sample_test1.csv', 'w', newline='') as f:\n",
    "    wt = csv.writer(f)\n",
    "    wt.writerows(w)"
   ]
  },
  {
   "cell_type": "code",
   "execution_count": 21,
   "metadata": {},
   "outputs": [
    {
     "name": "stdout",
     "output_type": "stream",
     "text": [
      "1,2,3\n",
      "4,5,6\n",
      "7,8,9\n",
      "10,11,12\n",
      "13,14,15\n",
      "16,17,18\n"
     ]
    }
   ],
   "source": [
    "!cat ./resource/sample_test1.csv"
   ]
  },
  {
   "cell_type": "markdown",
   "metadata": {},
   "source": [
    "## Excel (XSL, XLSX)\n",
    "- openpyxl\n",
    "- xlsxwriter\n",
    "- xlrd\n",
    "- xlwt"
   ]
  },
  {
   "cell_type": "code",
   "execution_count": 22,
   "metadata": {},
   "outputs": [
    {
     "name": "stdout",
     "output_type": "stream",
     "text": [
      "Requirement already satisfied: xlrd in /home/chanseok/anaconda3/lib/python3.7/site-packages (1.2.0)\n",
      "Requirement already satisfied: openpyxl in /home/chanseok/anaconda3/lib/python3.7/site-packages (3.0.3)\n",
      "Requirement already satisfied: et-xmlfile in /home/chanseok/anaconda3/lib/python3.7/site-packages (from openpyxl) (1.0.1)\n",
      "Requirement already satisfied: jdcal in /home/chanseok/anaconda3/lib/python3.7/site-packages (from openpyxl) (1.4.1)\n"
     ]
    }
   ],
   "source": [
    "!pip install xlrd\n",
    "!pip install openpyxl"
   ]
  },
  {
   "cell_type": "code",
   "execution_count": 23,
   "metadata": {},
   "outputs": [],
   "source": [
    "import pandas as pd"
   ]
  },
  {
   "cell_type": "markdown",
   "metadata": {},
   "source": [
    "### Example 1\n",
    "- `sheetname=`, `header=`, `skiprow=`"
   ]
  },
  {
   "cell_type": "code",
   "execution_count": 24,
   "metadata": {},
   "outputs": [
    {
     "name": "stdout",
     "output_type": "stream",
     "text": [
      "  Sap Co.      대리점 영업사원       전월       금월  TEAM  총 판매수량\n",
      "0  KI1316  경기수원대리점  이기정  1720000  2952000     1     123\n",
      "1  KI1451  충청홍성대리점  정미진  4080000  2706000     2     220\n",
      "2  KI1534  경기화성대리점  경인선   600000  2214000     1     320\n",
      "3  KI1636  강원속초대리점  이동권  3720000  2870000     3     110\n",
      "4  KI1735  경기안양대리점  강준석  4800000  2296000     1     134\n"
     ]
    }
   ],
   "source": [
    "xlsx = pd.read_excel('./resource/sample.xlsx')\n",
    "print(xlsx.head())"
   ]
  },
  {
   "cell_type": "code",
   "execution_count": 25,
   "metadata": {},
   "outputs": [
    {
     "name": "stdout",
     "output_type": "stream",
     "text": [
      "   Sap Co.       대리점 영업사원       전월       금월  TEAM  총 판매수량\n",
      "15  KI2870  경기구리시대리점  박진형  6000000  3400000     2     143\n",
      "16  KI2910   강원춘천대리점  김은향  4800000  4896000     1     176\n",
      "17  KI3030   강원영동대리점  전수창  4560000  3128000     2      98\n",
      "18  KI3131   경기하남대리점  김민정  2750000  7268000     3     293\n",
      "19  KI3252   강원포천대리점  서가은  2420000  4740000     4     240\n"
     ]
    }
   ],
   "source": [
    "print(xlsx.tail())"
   ]
  },
  {
   "cell_type": "code",
   "execution_count": 26,
   "metadata": {},
   "outputs": [
    {
     "name": "stdout",
     "output_type": "stream",
     "text": [
      "(20, 7)\n"
     ]
    }
   ],
   "source": [
    "print(xlsx.shape)"
   ]
  },
  {
   "cell_type": "markdown",
   "metadata": {},
   "source": [
    "### excel write"
   ]
  },
  {
   "cell_type": "code",
   "execution_count": 27,
   "metadata": {},
   "outputs": [],
   "source": [
    "xlsx.to_excel('./resource/result.xlsx', index=False)\n",
    "xlsx.to_csv('./resource/result.csv', index=False)"
   ]
  },
  {
   "cell_type": "code",
   "execution_count": 28,
   "metadata": {},
   "outputs": [
    {
     "name": "stdout",
     "output_type": "stream",
     "text": [
      "Sap Co.,대리점,영업사원,전월,금월,TEAM,총 판매수량\n",
      "KI1316,경기수원대리점,이기정,1720000,2952000,1,123\n",
      "KI1451,충청홍성대리점,정미진,4080000,2706000,2,220\n",
      "KI1534,경기화성대리점,경인선,600000,2214000,1,320\n",
      "KI1636,강원속초대리점,이동권,3720000,2870000,3,110\n",
      "KI1735,경기안양대리점,강준석,4800000,2296000,1,134\n",
      "KI1875,제주제주시대리점,민경수,3420000,2346000,4,210\n",
      "KI1917,경기광주대리점,김진혜,1292000,1518000,1,110\n",
      "KI2032,경기평택대리점,고유정,2736000,2139000,2,90\n",
      "KI2153,경기의정부대리점,김은향,1368000,2484000,1,183\n",
      "KI2214,경기성남대리점,이준수,1976000,1518000,3,73\n",
      "KI2313,제주서귀포시대리점,온지수,152000,945000,1,52\n",
      "KI2433,경기계양대리점,이희영,1833000,1404000,1,110\n",
      "KI2512,경기평촌대리점,강백호,4320000,2312000,3,240\n",
      "KI2671,제주서귀포시대리점,주은명,4040000,4760000,4,50\n",
      "KI2776,경기남양주대리점,김수진,8160000,4352000,2,354\n",
      "KI2870,경기구리시대리점,박진형,6000000,3400000,2,143\n",
      "KI2910,강원춘천대리점,김은향,4800000,4896000,1,176\n",
      "KI3030,강원영동대리점,전수창,4560000,3128000,2,98\n",
      "KI3131,경기하남대리점,김민정,2750000,7268000,3,293\n",
      "KI3252,강원포천대리점,서가은,2420000,4740000,4,240\n"
     ]
    }
   ],
   "source": [
    "!cat ./resource/result.csv"
   ]
  }
 ],
 "metadata": {
  "kernelspec": {
   "display_name": "Python 3",
   "language": "python",
   "name": "python3"
  },
  "language_info": {
   "codemirror_mode": {
    "name": "ipython",
    "version": 3
   },
   "file_extension": ".py",
   "mimetype": "text/x-python",
   "name": "python",
   "nbconvert_exporter": "python",
   "pygments_lexer": "ipython3",
   "version": "3.7.6"
  }
 },
 "nbformat": 4,
 "nbformat_minor": 4
}
