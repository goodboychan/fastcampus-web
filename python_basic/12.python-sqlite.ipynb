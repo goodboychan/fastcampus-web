{
 "cells": [
  {
   "cell_type": "markdown",
   "id": "00a4d9e8-c8c5-4c6d-9242-adfcd5715148",
   "metadata": {},
   "source": [
    "# Python Database\n",
    "\n",
    "> Summary\n",
    "\n",
    "- toc: true \n",
    "- badges: true\n",
    "- comments: true\n",
    "- author: Chanseok Kang\n",
    "- categories: [python, fastcampus]\n",
    "- image: "
   ]
  },
  {
   "cell_type": "code",
   "execution_count": 1,
   "id": "74c2e2b0-c4d3-4dcc-9129-b2c1f81b04fd",
   "metadata": {},
   "outputs": [],
   "source": [
    "import sqlite3\n",
    "import datetime"
   ]
  },
  {
   "cell_type": "code",
   "execution_count": 2,
   "id": "3e23a566-c747-4139-938a-6c31f06e979e",
   "metadata": {},
   "outputs": [
    {
     "name": "stdout",
     "output_type": "stream",
     "text": [
      "2.6.0\n",
      "3.35.4\n"
     ]
    }
   ],
   "source": [
    "print(sqlite3.version)\n",
    "print(sqlite3.sqlite_version)"
   ]
  },
  {
   "cell_type": "code",
   "execution_count": 3,
   "id": "8f28ab66-3648-475f-a495-18c4f157d2be",
   "metadata": {},
   "outputs": [
    {
     "data": {
      "text/plain": [
       "datetime.datetime(2021, 5, 17, 23, 46, 22, 123509)"
      ]
     },
     "execution_count": 3,
     "metadata": {},
     "output_type": "execute_result"
    }
   ],
   "source": [
    "now = datetime.datetime.now()\n",
    "now"
   ]
  },
  {
   "cell_type": "code",
   "execution_count": 4,
   "id": "30c0051e-4635-400a-a600-043fc9caefa1",
   "metadata": {},
   "outputs": [
    {
     "data": {
      "text/plain": [
       "'2021-05-17 23:46:22'"
      ]
     },
     "execution_count": 4,
     "metadata": {},
     "output_type": "execute_result"
    }
   ],
   "source": [
    "nowDatetime = now.strftime('%Y-%m-%d %H:%M:%S')\n",
    "nowDatetime"
   ]
  },
  {
   "cell_type": "markdown",
   "id": "2050837b-7409-4adc-94e0-8cb79143b596",
   "metadata": {},
   "source": [
    "## DB create & Auto commit"
   ]
  },
  {
   "cell_type": "code",
   "execution_count": 5,
   "id": "723c8cff-fd07-4824-a827-fb29fa333722",
   "metadata": {},
   "outputs": [],
   "source": [
    "conn = sqlite3.connect('./resource/database.db', isolation_level=None)"
   ]
  },
  {
   "cell_type": "markdown",
   "id": "c11046f8-106e-4377-84c4-a3774f51f909",
   "metadata": {},
   "source": [
    "## Cursor"
   ]
  },
  {
   "cell_type": "code",
   "execution_count": 6,
   "id": "69ec597c-dc92-49a3-a9bb-205a625a686e",
   "metadata": {},
   "outputs": [
    {
     "name": "stdout",
     "output_type": "stream",
     "text": [
      "Cursor Type:  <class 'sqlite3.Cursor'>\n"
     ]
    }
   ],
   "source": [
    "c = conn.cursor()\n",
    "print('Cursor Type: ', type(c))"
   ]
  },
  {
   "cell_type": "markdown",
   "id": "88b098f1-a5d2-4464-b029-23a0b3cfe3c9",
   "metadata": {},
   "source": [
    "## Table Generation\n",
    "- Data type\n",
    "    - Text\n",
    "    - Numeric (Integer)\n",
    "    - Real\n",
    "    - Blob"
   ]
  },
  {
   "cell_type": "code",
   "execution_count": 7,
   "id": "3024622c-3e4e-4218-92de-bad394868989",
   "metadata": {},
   "outputs": [
    {
     "data": {
      "text/plain": [
       "<sqlite3.Cursor at 0x1fdf387d2d0>"
      ]
     },
     "execution_count": 7,
     "metadata": {},
     "output_type": "execute_result"
    }
   ],
   "source": [
    "c.execute(\"CREATE TABLE IF NOT EXISTS users(id INTEGER PRIMARY KEY, username text, email text, \\\n",
    "          phone text, website text, regdate text)\")"
   ]
  },
  {
   "cell_type": "markdown",
   "id": "e5cb222e-1a47-4164-a4e7-ac9b63c2bfdd",
   "metadata": {},
   "source": [
    "## Data Insert"
   ]
  },
  {
   "cell_type": "code",
   "execution_count": 8,
   "id": "a6349b2d-0107-4d56-b5df-e95cfbf220fb",
   "metadata": {},
   "outputs": [
    {
     "data": {
      "text/plain": [
       "<sqlite3.Cursor at 0x1fdf387d2d0>"
      ]
     },
     "execution_count": 8,
     "metadata": {},
     "output_type": "execute_result"
    }
   ],
   "source": [
    "c.execute(\"INSERT INTO users VALUES(1, 'Kim', 'kim@naver.com', '010-0000-1010', \\\n",
    "           'kim.com', ?)\", (nowDatetime, ))"
   ]
  },
  {
   "cell_type": "code",
   "execution_count": null,
   "id": "6d4d0206-e690-4fc8-9d5b-725cc3119e95",
   "metadata": {},
   "outputs": [],
   "source": []
  }
 ],
 "metadata": {
  "kernelspec": {
   "display_name": "Python 3",
   "language": "python",
   "name": "python3"
  },
  "language_info": {
   "codemirror_mode": {
    "name": "ipython",
    "version": 3
   },
   "file_extension": ".py",
   "mimetype": "text/x-python",
   "name": "python",
   "nbconvert_exporter": "python",
   "pygments_lexer": "ipython3",
   "version": "3.7.10"
  }
 },
 "nbformat": 4,
 "nbformat_minor": 5
}
