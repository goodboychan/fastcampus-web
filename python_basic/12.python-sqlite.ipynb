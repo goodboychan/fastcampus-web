{
 "cells": [
  {
   "cell_type": "markdown",
   "id": "a9bcfebb",
   "metadata": {},
   "source": [
    "# Python Database\n",
    "\n",
    "> Summary\n",
    "\n",
    "- toc: true \n",
    "- badges: true\n",
    "- comments: true\n",
    "- author: Chanseok Kang\n",
    "- categories: [python, fastcampus]\n",
    "- image: "
   ]
  },
  {
   "cell_type": "code",
   "execution_count": 1,
   "id": "7613bc25",
   "metadata": {},
   "outputs": [],
   "source": [
    "import sqlite3\n",
    "import datetime\n",
    "from pprint import pprint"
   ]
  },
  {
   "cell_type": "code",
   "execution_count": 2,
   "id": "51791c92",
   "metadata": {},
   "outputs": [
    {
     "name": "stdout",
     "output_type": "stream",
     "text": [
      "2.6.0\n",
      "3.35.4\n"
     ]
    }
   ],
   "source": [
    "print(sqlite3.version)\n",
    "print(sqlite3.sqlite_version)"
   ]
  },
  {
   "cell_type": "code",
   "execution_count": 3,
   "id": "93317804",
   "metadata": {},
   "outputs": [
    {
     "data": {
      "text/plain": [
       "datetime.datetime(2021, 5, 18, 16, 12, 10, 594023)"
      ]
     },
     "execution_count": 3,
     "metadata": {},
     "output_type": "execute_result"
    }
   ],
   "source": [
    "now = datetime.datetime.now()\n",
    "now"
   ]
  },
  {
   "cell_type": "code",
   "execution_count": 4,
   "id": "13fefc1a",
   "metadata": {},
   "outputs": [
    {
     "data": {
      "text/plain": [
       "'2021-05-18 16:12:10'"
      ]
     },
     "execution_count": 4,
     "metadata": {},
     "output_type": "execute_result"
    }
   ],
   "source": [
    "nowDatetime = now.strftime('%Y-%m-%d %H:%M:%S')\n",
    "nowDatetime"
   ]
  },
  {
   "cell_type": "markdown",
   "id": "ed5b9746",
   "metadata": {},
   "source": [
    "## DB create & Auto commit"
   ]
  },
  {
   "cell_type": "code",
   "execution_count": 5,
   "id": "5f052648",
   "metadata": {},
   "outputs": [],
   "source": [
    "conn = sqlite3.connect('./resource/database.db', isolation_level=None)"
   ]
  },
  {
   "cell_type": "markdown",
   "id": "57848438",
   "metadata": {},
   "source": [
    "## Cursor"
   ]
  },
  {
   "cell_type": "code",
   "execution_count": 6,
   "id": "52d0f89b",
   "metadata": {},
   "outputs": [
    {
     "name": "stdout",
     "output_type": "stream",
     "text": [
      "Cursor Type:  <class 'sqlite3.Cursor'>\n"
     ]
    }
   ],
   "source": [
    "c = conn.cursor()\n",
    "print('Cursor Type: ', type(c))"
   ]
  },
  {
   "cell_type": "markdown",
   "id": "b8be12d0",
   "metadata": {},
   "source": [
    "## Table Generation\n",
    "- Data type\n",
    "    - Text\n",
    "    - Numeric (Integer)\n",
    "    - Real\n",
    "    - Blob"
   ]
  },
  {
   "cell_type": "code",
   "execution_count": 7,
   "id": "f79fdfa3",
   "metadata": {},
   "outputs": [
    {
     "data": {
      "text/plain": [
       "<sqlite3.Cursor at 0x241ae83f180>"
      ]
     },
     "execution_count": 7,
     "metadata": {},
     "output_type": "execute_result"
    }
   ],
   "source": [
    "c.execute(\"CREATE TABLE IF NOT EXISTS users(id INTEGER PRIMARY KEY, username text, email text, \\\n",
    "          phone text, website text, regdate text)\")"
   ]
  },
  {
   "cell_type": "markdown",
   "id": "7127e937",
   "metadata": {},
   "source": [
    "## Data Insert"
   ]
  },
  {
   "cell_type": "code",
   "execution_count": 8,
   "id": "ee59f2e2",
   "metadata": {},
   "outputs": [
    {
     "data": {
      "text/plain": [
       "<sqlite3.Cursor at 0x241ae83f180>"
      ]
     },
     "execution_count": 8,
     "metadata": {},
     "output_type": "execute_result"
    }
   ],
   "source": [
    "c.execute(\"INSERT INTO users VALUES(1, 'Kim', 'kim@naver.com', '010-0000-1010', \\\n",
    "           'kim.com', ?)\", (nowDatetime, ))"
   ]
  },
  {
   "cell_type": "code",
   "execution_count": 9,
   "id": "243f6ec6",
   "metadata": {},
   "outputs": [
    {
     "data": {
      "text/plain": [
       "<sqlite3.Cursor at 0x241ae83f180>"
      ]
     },
     "execution_count": 9,
     "metadata": {},
     "output_type": "execute_result"
    }
   ],
   "source": [
    "c.execute('INSERT INTO users(id, username, email, phone, website, regdate) VALUES (?,?,?,?,?,?)', \\\n",
    "          (2, 'Park', 'Park@daum.net', '010-1111-0101', 'Park.com', nowDatetime))"
   ]
  },
  {
   "cell_type": "markdown",
   "id": "0c39b67a",
   "metadata": {},
   "source": [
    "## Many Insert\n",
    "- Tuple\n",
    "- List"
   ]
  },
  {
   "cell_type": "code",
   "execution_count": 10,
   "id": "4af4b743",
   "metadata": {},
   "outputs": [],
   "source": [
    "userList = (\n",
    "    (3, 'Lee', 'Lee@naver.com', '010-2222-2222', 'Lee.com', nowDatetime),\n",
    "    (4, 'Cho', 'Cho@daum.net', '010-3333-3333', 'Cho.com', nowDatetime),\n",
    "    (5, 'Yoo', 'Yoo@google.com', '010-4444-4444', 'Yoo.net', nowDatetime)\n",
    ")"
   ]
  },
  {
   "cell_type": "code",
   "execution_count": 11,
   "id": "f6aa6973",
   "metadata": {},
   "outputs": [
    {
     "data": {
      "text/plain": [
       "<sqlite3.Cursor at 0x241ae83f180>"
      ]
     },
     "execution_count": 11,
     "metadata": {},
     "output_type": "execute_result"
    }
   ],
   "source": [
    "c.executemany('INSERT INTO users(id, username, email, phone, website, regdate) VALUES (?,?,?,?,?,?)',\\\n",
    "               userList)"
   ]
  },
  {
   "cell_type": "markdown",
   "id": "2ff8db16",
   "metadata": {},
   "source": [
    "## Data delete"
   ]
  },
  {
   "cell_type": "code",
   "execution_count": 12,
   "id": "82aaeab9",
   "metadata": {},
   "outputs": [
    {
     "name": "stdout",
     "output_type": "stream",
     "text": [
      "users db deleted :  5\n"
     ]
    }
   ],
   "source": [
    "print('users db deleted : ', conn.execute('DELETE FROM users').rowcount)"
   ]
  },
  {
   "cell_type": "markdown",
   "id": "486f4101",
   "metadata": {},
   "source": [
    "## commit\n",
    "- Auto commit : `isolation_level = None`\n",
    "- Manual commit :\n",
    "```python\n",
    "# commit\n",
    "conn.commit()\n",
    "# rollback\n",
    "conn.rollback()\n",
    "```"
   ]
  },
  {
   "cell_type": "code",
   "execution_count": 13,
   "id": "dfdd0288",
   "metadata": {},
   "outputs": [],
   "source": [
    "conn.close()"
   ]
  },
  {
   "cell_type": "markdown",
   "id": "33b90471",
   "metadata": {},
   "source": [
    "## Table read"
   ]
  },
  {
   "cell_type": "code",
   "execution_count": 14,
   "id": "77731e48",
   "metadata": {},
   "outputs": [
    {
     "data": {
      "text/plain": [
       "<sqlite3.Cursor at 0x241ae861500>"
      ]
     },
     "execution_count": 14,
     "metadata": {},
     "output_type": "execute_result"
    }
   ],
   "source": [
    "conn = sqlite3.connect('./resource/database.db')\n",
    "c = conn.cursor()\n",
    "c.execute(\"CREATE TABLE IF NOT EXISTS users(id INTEGER PRIMARY KEY, username text, email text, \\\n",
    "          phone text, website text, regdate text)\")\n",
    "c.execute(\"INSERT INTO users VALUES(1, 'Kim', 'kim@naver.com', '010-0000-1010', \\\n",
    "           'kim.com', ?)\", (nowDatetime, ))\n",
    "c.execute('INSERT INTO users(id, username, email, phone, website, regdate) VALUES (?,?,?,?,?,?)', \\\n",
    "          (2, 'Park', 'Park@daum.net', '010-1111-0101', 'Park.com', nowDatetime))\n",
    "c.executemany('INSERT INTO users(id, username, email, phone, website, regdate) VALUES (?,?,?,?,?,?)',\\\n",
    "               userList)"
   ]
  },
  {
   "cell_type": "markdown",
   "id": "b9bc2fbd",
   "metadata": {},
   "source": [
    "### First row select"
   ]
  },
  {
   "cell_type": "code",
   "execution_count": 15,
   "id": "d4ae8b93",
   "metadata": {},
   "outputs": [
    {
     "name": "stdout",
     "output_type": "stream",
     "text": [
      "One -> \n",
      " (1, 'Kim', 'kim@naver.com', '010-0000-1010', 'kim.com', '2021-05-18 16:12:10')\n"
     ]
    }
   ],
   "source": [
    "c.execute('SELECT * FROM users')\n",
    "print('One -> \\n', c.fetchone())"
   ]
  },
  {
   "cell_type": "markdown",
   "id": "48f402c3",
   "metadata": {},
   "source": [
    "### Specific row select"
   ]
  },
  {
   "cell_type": "code",
   "execution_count": 16,
   "id": "22a9c2f7",
   "metadata": {},
   "outputs": [
    {
     "name": "stdout",
     "output_type": "stream",
     "text": [
      "Three -> \n",
      " [(2, 'Park', 'Park@daum.net', '010-1111-0101', 'Park.com', '2021-05-18 16:12:10'), (3, 'Lee', 'Lee@naver.com', '010-2222-2222', 'Lee.com', '2021-05-18 16:12:10'), (4, 'Cho', 'Cho@daum.net', '010-3333-3333', 'Cho.com', '2021-05-18 16:12:10')]\n"
     ]
    }
   ],
   "source": [
    "print('Three -> \\n', c.fetchmany(size=3))"
   ]
  },
  {
   "cell_type": "markdown",
   "id": "896280c4",
   "metadata": {},
   "source": [
    "### All row select"
   ]
  },
  {
   "cell_type": "code",
   "execution_count": 17,
   "id": "07970fa6",
   "metadata": {},
   "outputs": [
    {
     "name": "stdout",
     "output_type": "stream",
     "text": [
      "All -> \n",
      " [(5, 'Yoo', 'Yoo@google.com', '010-4444-4444', 'Yoo.net', '2021-05-18 16:12:10')]\n"
     ]
    }
   ],
   "source": [
    "print('All -> \\n', c.fetchall())"
   ]
  },
  {
   "cell_type": "code",
   "execution_count": 18,
   "id": "1dd489e9",
   "metadata": {},
   "outputs": [
    {
     "name": "stdout",
     "output_type": "stream",
     "text": [
      "All -> \n",
      " []\n"
     ]
    }
   ],
   "source": [
    "print('All -> \\n', c.fetchall())"
   ]
  },
  {
   "cell_type": "markdown",
   "id": "f87f4672",
   "metadata": {},
   "source": [
    "## Retrieve"
   ]
  },
  {
   "cell_type": "code",
   "execution_count": 19,
   "id": "9c67d9a4",
   "metadata": {},
   "outputs": [
    {
     "name": "stdout",
     "output_type": "stream",
     "text": [
      "retrieve1 >  (1, 'Kim', 'kim@naver.com', '010-0000-1010', 'kim.com', '2021-05-18 16:12:10')\n",
      "retrieve1 >  (2, 'Park', 'Park@daum.net', '010-1111-0101', 'Park.com', '2021-05-18 16:12:10')\n",
      "retrieve1 >  (3, 'Lee', 'Lee@naver.com', '010-2222-2222', 'Lee.com', '2021-05-18 16:12:10')\n",
      "retrieve1 >  (4, 'Cho', 'Cho@daum.net', '010-3333-3333', 'Cho.com', '2021-05-18 16:12:10')\n",
      "retrieve1 >  (5, 'Yoo', 'Yoo@google.com', '010-4444-4444', 'Yoo.net', '2021-05-18 16:12:10')\n"
     ]
    }
   ],
   "source": [
    "c.execute('SELECT * FROM users')\n",
    "rows = c.fetchall()\n",
    "\n",
    "for row in rows:\n",
    "    print('retrieve1 > ', row)"
   ]
  },
  {
   "cell_type": "code",
   "execution_count": 20,
   "id": "fecb56db",
   "metadata": {},
   "outputs": [
    {
     "name": "stdout",
     "output_type": "stream",
     "text": [
      "retrieve2 >  (1, 'Kim', 'kim@naver.com', '010-0000-1010', 'kim.com', '2021-05-18 16:12:10')\n",
      "retrieve2 >  (2, 'Park', 'Park@daum.net', '010-1111-0101', 'Park.com', '2021-05-18 16:12:10')\n",
      "retrieve2 >  (3, 'Lee', 'Lee@naver.com', '010-2222-2222', 'Lee.com', '2021-05-18 16:12:10')\n",
      "retrieve2 >  (4, 'Cho', 'Cho@daum.net', '010-3333-3333', 'Cho.com', '2021-05-18 16:12:10')\n",
      "retrieve2 >  (5, 'Yoo', 'Yoo@google.com', '010-4444-4444', 'Yoo.net', '2021-05-18 16:12:10')\n"
     ]
    }
   ],
   "source": [
    "c.execute('SELECT * FROM users')\n",
    "for row in c.fetchall():\n",
    "    print('retrieve2 > ', row)"
   ]
  },
  {
   "cell_type": "code",
   "execution_count": 21,
   "id": "d0a1cf87",
   "metadata": {},
   "outputs": [
    {
     "name": "stdout",
     "output_type": "stream",
     "text": [
      "retrieve3 >  (5, 'Yoo', 'Yoo@google.com', '010-4444-4444', 'Yoo.net', '2021-05-18 16:12:10')\n",
      "retrieve3 >  (4, 'Cho', 'Cho@daum.net', '010-3333-3333', 'Cho.com', '2021-05-18 16:12:10')\n",
      "retrieve3 >  (3, 'Lee', 'Lee@naver.com', '010-2222-2222', 'Lee.com', '2021-05-18 16:12:10')\n",
      "retrieve3 >  (2, 'Park', 'Park@daum.net', '010-1111-0101', 'Park.com', '2021-05-18 16:12:10')\n",
      "retrieve3 >  (1, 'Kim', 'kim@naver.com', '010-0000-1010', 'kim.com', '2021-05-18 16:12:10')\n"
     ]
    }
   ],
   "source": [
    "c.execute('SELECT * FROM users')\n",
    "for row in c.execute('SELECT * FROM users ORDER BY id desc'):\n",
    "    print('retrieve3 > ', row)"
   ]
  },
  {
   "cell_type": "markdown",
   "id": "41bf173e",
   "metadata": {},
   "source": [
    "## Where retrieve1"
   ]
  },
  {
   "cell_type": "code",
   "execution_count": 22,
   "id": "e20f54aa",
   "metadata": {},
   "outputs": [
    {
     "name": "stdout",
     "output_type": "stream",
     "text": [
      "param1 >  (3, 'Lee', 'Lee@naver.com', '010-2222-2222', 'Lee.com', '2021-05-18 16:12:10')\n",
      "param1 >  []\n"
     ]
    }
   ],
   "source": [
    "param1 = (3, )\n",
    "c.execute('SELECT * FROM users WHERE id=?', param1)\n",
    "print('param1 > ', c.fetchone())\n",
    "print('param1 > ', c.fetchall())"
   ]
  },
  {
   "cell_type": "markdown",
   "id": "bc4ff913",
   "metadata": {},
   "source": [
    "## Where retrieve2"
   ]
  },
  {
   "cell_type": "code",
   "execution_count": 23,
   "id": "10cf6d0c",
   "metadata": {},
   "outputs": [
    {
     "name": "stdout",
     "output_type": "stream",
     "text": [
      "param2 >  (4, 'Cho', 'Cho@daum.net', '010-3333-3333', 'Cho.com', '2021-05-18 16:12:10')\n",
      "param2 >  []\n"
     ]
    }
   ],
   "source": [
    "param2 = 4\n",
    "c.execute('SELECT * FROM users WHERE id=\"%s\"' % param2)\n",
    "print('param2 > ', c.fetchone())\n",
    "print('param2 > ', c.fetchall())"
   ]
  },
  {
   "cell_type": "markdown",
   "id": "208021b5",
   "metadata": {},
   "source": [
    "## Where retrieve3"
   ]
  },
  {
   "cell_type": "code",
   "execution_count": 24,
   "id": "2cd11ec2",
   "metadata": {},
   "outputs": [
    {
     "name": "stdout",
     "output_type": "stream",
     "text": [
      "retrieve3 >  (5, 'Yoo', 'Yoo@google.com', '010-4444-4444', 'Yoo.net', '2021-05-18 16:12:10')\n",
      "retrieve3 >  []\n"
     ]
    }
   ],
   "source": [
    "c.execute('SELECT * FROM users WHERE id=:Id', {\"Id\": 5})\n",
    "print('retrieve3 > ', c.fetchone())\n",
    "print('retrieve3 > ', c.fetchall())"
   ]
  },
  {
   "cell_type": "markdown",
   "id": "b25fa093",
   "metadata": {},
   "source": [
    "## Where retrieve4"
   ]
  },
  {
   "cell_type": "code",
   "execution_count": 25,
   "id": "276de391",
   "metadata": {},
   "outputs": [
    {
     "name": "stdout",
     "output_type": "stream",
     "text": [
      "param4 >  [(3, 'Lee', 'Lee@naver.com', '010-2222-2222', 'Lee.com', '2021-05-18 16:12:10'), (5, 'Yoo', 'Yoo@google.com', '010-4444-4444', 'Yoo.net', '2021-05-18 16:12:10')]\n"
     ]
    }
   ],
   "source": [
    "param4 = (3, 5)\n",
    "c.execute('SELECT * FROM users WHERE id IN(?,?)', param4)\n",
    "print('param4 > ', c.fetchall())"
   ]
  },
  {
   "cell_type": "markdown",
   "id": "e5835508",
   "metadata": {},
   "source": [
    "## Where retrieve5"
   ]
  },
  {
   "cell_type": "code",
   "execution_count": 26,
   "id": "68d4acc2",
   "metadata": {},
   "outputs": [
    {
     "name": "stdout",
     "output_type": "stream",
     "text": [
      "retrieve5 >  [(3, 'Lee', 'Lee@naver.com', '010-2222-2222', 'Lee.com', '2021-05-18 16:12:10'), (4, 'Cho', 'Cho@daum.net', '010-3333-3333', 'Cho.com', '2021-05-18 16:12:10')]\n"
     ]
    }
   ],
   "source": [
    "c.execute('SELECT * FROM users WHERE id IN(\"%d\",\"%d\")' % (3, 4))\n",
    "print('retrieve5 > ', c.fetchall())"
   ]
  },
  {
   "cell_type": "markdown",
   "id": "01ee1a57",
   "metadata": {},
   "source": [
    "## Where retrieve6"
   ]
  },
  {
   "cell_type": "code",
   "execution_count": 27,
   "id": "194ea27a",
   "metadata": {},
   "outputs": [
    {
     "name": "stdout",
     "output_type": "stream",
     "text": [
      "retrieve 6 >  [(2, 'Park', 'Park@daum.net', '010-1111-0101', 'Park.com', '2021-05-18 16:12:10'), (5, 'Yoo', 'Yoo@google.com', '010-4444-4444', 'Yoo.net', '2021-05-18 16:12:10')]\n"
     ]
    }
   ],
   "source": [
    "c.execute('SELECT * FROM users WHERE id=:id1 OR id=:id2', {'id1': 2, 'id2': 5})\n",
    "print('retrieve 6 > ', c.fetchall())"
   ]
  },
  {
   "cell_type": "markdown",
   "id": "79f4ecf0",
   "metadata": {},
   "source": [
    "## Dump"
   ]
  },
  {
   "cell_type": "code",
   "execution_count": 28,
   "id": "68151df3",
   "metadata": {},
   "outputs": [
    {
     "name": "stdout",
     "output_type": "stream",
     "text": [
      "Dump Print Complete\n"
     ]
    }
   ],
   "source": [
    "with conn:\n",
    "    with open('./resource/dump.sql', 'w') as f:\n",
    "        for line in conn.iterdump():\n",
    "            f.write('%s\\n' % line)\n",
    "        print('Dump Print Complete')"
   ]
  },
  {
   "cell_type": "code",
   "execution_count": 55,
   "id": "240c3940",
   "metadata": {},
   "outputs": [
    {
     "name": "stdout",
     "output_type": "stream",
     "text": [
      "BEGIN TRANSACTION;\n",
      "CREATE TABLE users(id INTEGER PRIMARY KEY, username text, email text,           phone text, website text, regdate text);\n",
      "INSERT INTO \"users\" VALUES(1,'Kim','kim@naver.com','010-0000-1010','kim.com','2021-05-18 09:44:46');\n",
      "INSERT INTO \"users\" VALUES(2,'Park','Park@daum.net','010-1111-0101','Park.com','2021-05-18 09:44:46');\n",
      "INSERT INTO \"users\" VALUES(3,'Lee','Lee@naver.com','010-2222-2222','Lee.com','2021-05-18 09:44:46');\n",
      "INSERT INTO \"users\" VALUES(4,'Cho','Cho@daum.net','010-3333-3333','Cho.com','2021-05-18 09:44:46');\n",
      "INSERT INTO \"users\" VALUES(5,'Yoo','Yoo@google.com','010-4444-4444','Yoo.net','2021-05-18 09:44:46');\n",
      "COMMIT;\n"
     ]
    }
   ],
   "source": [
    "!cat resource/dump.sql"
   ]
  },
  {
   "cell_type": "markdown",
   "id": "2cc32bf8-3898-4b3e-8896-d041289cce4d",
   "metadata": {},
   "source": [
    "## Data modification 1"
   ]
  },
  {
   "cell_type": "code",
   "execution_count": 32,
   "id": "9f7755cb-7154-49d3-9b43-c2bff1dd0378",
   "metadata": {},
   "outputs": [],
   "source": [
    "c.execute('UPDATE users SET username = ? WHERE id = ?', ('niceman', 2))\n",
    "conn.commit()"
   ]
  },
  {
   "cell_type": "markdown",
   "id": "66d3c1b9-a666-4204-b448-0248005c6cd9",
   "metadata": {},
   "source": [
    "## Data modification 2"
   ]
  },
  {
   "cell_type": "code",
   "execution_count": 33,
   "id": "c5573634-c3cd-4628-b67c-57047a92393e",
   "metadata": {},
   "outputs": [],
   "source": [
    "c.execute('UPDATE users SET username = :name WHERE id = :id', {\"name\": 'goodman', \"id\": 5})\n",
    "conn.commit()"
   ]
  },
  {
   "cell_type": "markdown",
   "id": "8530f4ae-af2f-414e-b40e-170ae0b3c143",
   "metadata": {},
   "source": [
    "## Data modification 3"
   ]
  },
  {
   "cell_type": "code",
   "execution_count": 34,
   "id": "e7ac2b50-53a2-444e-81fb-0d379ace245b",
   "metadata": {},
   "outputs": [],
   "source": [
    "c.execute('UPDATE users SET username = \"%s\" WHERE id = \"%d\"' % ('badboy', 3))\n",
    "conn.commit()"
   ]
  },
  {
   "cell_type": "code",
   "execution_count": 35,
   "id": "ade1deb0-5e90-4fcf-a4ea-1b18cd18cfda",
   "metadata": {},
   "outputs": [
    {
     "name": "stdout",
     "output_type": "stream",
     "text": [
      "(1, 'Kim', 'kim@naver.com', '010-0000-1010', 'kim.com', '2021-05-18 16:12:10')\n",
      "(2, 'niceman', 'Park@daum.net', '010-1111-0101', 'Park.com', '2021-05-18 16:12:10')\n",
      "(3, 'badboy', 'Lee@naver.com', '010-2222-2222', 'Lee.com', '2021-05-18 16:12:10')\n",
      "(4, 'Cho', 'Cho@daum.net', '010-3333-3333', 'Cho.com', '2021-05-18 16:12:10')\n",
      "(5, 'goodman', 'Yoo@google.com', '010-4444-4444', 'Yoo.net', '2021-05-18 16:12:10')\n"
     ]
    }
   ],
   "source": [
    "for user in c.execute('SELECT * FROM users'):\n",
    "    print(user)"
   ]
  },
  {
   "cell_type": "markdown",
   "id": "a8d2f282-65e4-4cb1-a182-5853bba1edca",
   "metadata": {},
   "source": [
    "## Data Delete 1"
   ]
  },
  {
   "cell_type": "code",
   "execution_count": 36,
   "id": "1f0aec90-f488-4632-b8a3-8c01b9a54dbb",
   "metadata": {},
   "outputs": [],
   "source": [
    "c.execute('DELETE FROM users WHERE id = ?', (2, ))\n",
    "conn.commit()"
   ]
  },
  {
   "cell_type": "code",
   "execution_count": 37,
   "id": "38cf2f12-2e10-40e6-8d18-83d4b6610aaf",
   "metadata": {},
   "outputs": [
    {
     "name": "stdout",
     "output_type": "stream",
     "text": [
      "(1, 'Kim', 'kim@naver.com', '010-0000-1010', 'kim.com', '2021-05-18 16:12:10')\n",
      "(3, 'badboy', 'Lee@naver.com', '010-2222-2222', 'Lee.com', '2021-05-18 16:12:10')\n",
      "(4, 'Cho', 'Cho@daum.net', '010-3333-3333', 'Cho.com', '2021-05-18 16:12:10')\n",
      "(5, 'goodman', 'Yoo@google.com', '010-4444-4444', 'Yoo.net', '2021-05-18 16:12:10')\n"
     ]
    }
   ],
   "source": [
    "for user in c.execute('SELECT * FROM users'):\n",
    "    print(user)"
   ]
  },
  {
   "cell_type": "markdown",
   "id": "1597f162-2f09-4ad8-a058-f1de9a2aa4bc",
   "metadata": {},
   "source": [
    "## Data Delete 2"
   ]
  },
  {
   "cell_type": "code",
   "execution_count": 38,
   "id": "04647826-439c-44d1-931e-9fbc89625473",
   "metadata": {},
   "outputs": [],
   "source": [
    "c.execute('DELETE FROM users WHERE id = :id', {'id': 5})\n",
    "conn.commit()"
   ]
  },
  {
   "cell_type": "code",
   "execution_count": 39,
   "id": "9bb49d0e-fe31-4622-bc06-ff1f9bb390e7",
   "metadata": {},
   "outputs": [
    {
     "name": "stdout",
     "output_type": "stream",
     "text": [
      "(1, 'Kim', 'kim@naver.com', '010-0000-1010', 'kim.com', '2021-05-18 16:12:10')\n",
      "(3, 'badboy', 'Lee@naver.com', '010-2222-2222', 'Lee.com', '2021-05-18 16:12:10')\n",
      "(4, 'Cho', 'Cho@daum.net', '010-3333-3333', 'Cho.com', '2021-05-18 16:12:10')\n"
     ]
    }
   ],
   "source": [
    "for user in c.execute('SELECT * FROM users'):\n",
    "    print(user)"
   ]
  },
  {
   "cell_type": "markdown",
   "id": "350f5350-ea32-4af8-9740-6af3f5b80284",
   "metadata": {},
   "source": [
    "## Data Delete 3"
   ]
  },
  {
   "cell_type": "code",
   "execution_count": 40,
   "id": "53418661-8cb0-478e-8544-3841959759a3",
   "metadata": {},
   "outputs": [],
   "source": [
    "c.execute('DELETE FROM users WHERE id = \"%s\"' % (4, ))\n",
    "conn.commit()"
   ]
  },
  {
   "cell_type": "code",
   "execution_count": 41,
   "id": "09e643b0-f2b8-4684-a701-5c700c416d06",
   "metadata": {},
   "outputs": [
    {
     "name": "stdout",
     "output_type": "stream",
     "text": [
      "(1, 'Kim', 'kim@naver.com', '010-0000-1010', 'kim.com', '2021-05-18 16:12:10')\n",
      "(3, 'badboy', 'Lee@naver.com', '010-2222-2222', 'Lee.com', '2021-05-18 16:12:10')\n"
     ]
    }
   ],
   "source": [
    "for user in c.execute('SELECT * FROM users'):\n",
    "    print(user)"
   ]
  },
  {
   "cell_type": "markdown",
   "id": "35245e6e-9d13-45a9-9496-d5dff2a7a985",
   "metadata": {},
   "source": [
    "## Overall table delete"
   ]
  },
  {
   "cell_type": "code",
   "execution_count": 42,
   "id": "608ac991-5f0a-4168-9f68-bf0a832279dd",
   "metadata": {},
   "outputs": [
    {
     "name": "stdout",
     "output_type": "stream",
     "text": [
      "users db deleted :  2  rows\n"
     ]
    }
   ],
   "source": [
    "print(\"users db deleted : \", conn.execute(\"DELETE FROM users\").rowcount, \" rows\")"
   ]
  },
  {
   "cell_type": "code",
   "execution_count": 43,
   "id": "83f3a5a6-af95-4699-9b16-25ecd44adadf",
   "metadata": {},
   "outputs": [],
   "source": [
    "conn.commit()"
   ]
  },
  {
   "cell_type": "code",
   "execution_count": 44,
   "id": "bdbd688b-2683-44ae-8ac8-8b98f97a42b8",
   "metadata": {},
   "outputs": [],
   "source": [
    "conn.close()"
   ]
  }
 ],
 "metadata": {
  "kernelspec": {
   "display_name": "Python 3",
   "language": "python",
   "name": "python3"
  },
  "language_info": {
   "codemirror_mode": {
    "name": "ipython",
    "version": 3
   },
   "file_extension": ".py",
   "mimetype": "text/x-python",
   "name": "python",
   "nbconvert_exporter": "python",
   "pygments_lexer": "ipython3",
   "version": "3.7.10"
  }
 },
 "nbformat": 4,
 "nbformat_minor": 5
}
