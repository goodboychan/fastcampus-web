{
 "cells": [
  {
   "cell_type": "markdown",
   "metadata": {},
   "source": [
    "# Python Class\n",
    "\n",
    "> Summary\n",
    "\n",
    "- toc: true \n",
    "- badges: true\n",
    "- comments: true\n",
    "- author: Chanseok Kang\n",
    "- categories: [python, fastcampus]\n",
    "- image: "
   ]
  },
  {
   "cell_type": "markdown",
   "metadata": {},
   "source": [
    "## Class Variable"
   ]
  },
  {
   "cell_type": "markdown",
   "metadata": {},
   "source": [
    "### Definition\n",
    "```python\n",
    "class class_name:\n",
    "    func\n",
    "    func\n",
    "    func\n",
    "```"
   ]
  },
  {
   "cell_type": "markdown",
   "metadata": {},
   "source": [
    "### Example 1"
   ]
  },
  {
   "cell_type": "code",
   "execution_count": 6,
   "metadata": {},
   "outputs": [
    {
     "name": "stdout",
     "output_type": "stream",
     "text": [
      "Name :  Kim\n",
      "Kim\n",
      "Name :  Park\n",
      "Park\n"
     ]
    }
   ],
   "source": [
    "class UserInfo:\n",
    "    # Property and method\n",
    "    def __init__(self, name: str):\n",
    "        self.name = name\n",
    "        \n",
    "    def user_info_p(self):\n",
    "        print(\"Name : \", self.name)\n",
    "        \n",
    "user1 = UserInfo(\"Kim\")\n",
    "user1.user_info_p()\n",
    "print(user1.name)\n",
    "\n",
    "user2 = UserInfo(\"Park\")\n",
    "user2.user_info_p()\n",
    "print(user2.name)"
   ]
  },
  {
   "cell_type": "code",
   "execution_count": 7,
   "metadata": {},
   "outputs": [
    {
     "name": "stdout",
     "output_type": "stream",
     "text": [
      "139889228259024\n",
      "139889228289040\n"
     ]
    }
   ],
   "source": [
    "print(id(user1))\n",
    "print(id(user2))"
   ]
  },
  {
   "cell_type": "code",
   "execution_count": 8,
   "metadata": {},
   "outputs": [
    {
     "name": "stdout",
     "output_type": "stream",
     "text": [
      "{'name': 'Kim'}\n",
      "{'name': 'Park'}\n"
     ]
    }
   ],
   "source": [
    "print(user1.__dict__)\n",
    "print(user2.__dict__)"
   ]
  },
  {
   "cell_type": "markdown",
   "metadata": {},
   "source": [
    "### Example 2"
   ]
  },
  {
   "cell_type": "code",
   "execution_count": 13,
   "metadata": {},
   "outputs": [
    {
     "ename": "TypeError",
     "evalue": "function1() takes 0 positional arguments but 1 was given",
     "output_type": "error",
     "traceback": [
      "\u001b[0;31m---------------------------------------------------------------------------\u001b[0m",
      "\u001b[0;31mTypeError\u001b[0m                                 Traceback (most recent call last)",
      "\u001b[0;32m<ipython-input-13-4edd81a81b43>\u001b[0m in \u001b[0;36m<module>\u001b[0;34m\u001b[0m\n\u001b[1;32m      9\u001b[0m \u001b[0;34m\u001b[0m\u001b[0m\n\u001b[1;32m     10\u001b[0m \u001b[0mself_test\u001b[0m \u001b[0;34m=\u001b[0m \u001b[0mSelfTest\u001b[0m\u001b[0;34m(\u001b[0m\u001b[0;34m)\u001b[0m\u001b[0;34m\u001b[0m\u001b[0;34m\u001b[0m\u001b[0m\n\u001b[0;32m---> 11\u001b[0;31m \u001b[0mself_test\u001b[0m\u001b[0;34m.\u001b[0m\u001b[0mfunction1\u001b[0m\u001b[0;34m(\u001b[0m\u001b[0;34m)\u001b[0m\u001b[0;34m\u001b[0m\u001b[0;34m\u001b[0m\u001b[0m\n\u001b[0m",
      "\u001b[0;31mTypeError\u001b[0m: function1() takes 0 positional arguments but 1 was given"
     ]
    }
   ],
   "source": [
    "class SelfTest():\n",
    "    # Class method\n",
    "    def function1():\n",
    "        print(\"Function1 called\")\n",
    "    # Instance method\n",
    "    def function2(self):\n",
    "        print(id(self))\n",
    "        print(\"Function2 called\")\n",
    "        \n",
    "self_test = SelfTest()\n",
    "self_test.function1()\n"
   ]
  },
  {
   "cell_type": "code",
   "execution_count": 14,
   "metadata": {},
   "outputs": [
    {
     "name": "stdout",
     "output_type": "stream",
     "text": [
      "Function1 called\n"
     ]
    }
   ],
   "source": [
    "SelfTest.function1()"
   ]
  },
  {
   "cell_type": "code",
   "execution_count": 15,
   "metadata": {},
   "outputs": [
    {
     "name": "stdout",
     "output_type": "stream",
     "text": [
      "139889224661648\n",
      "Function2 called\n"
     ]
    }
   ],
   "source": [
    "self_test.function2()"
   ]
  },
  {
   "cell_type": "code",
   "execution_count": 16,
   "metadata": {},
   "outputs": [
    {
     "name": "stdout",
     "output_type": "stream",
     "text": [
      "139889224661648\n"
     ]
    }
   ],
   "source": [
    "print(id(self_test))"
   ]
  },
  {
   "cell_type": "code",
   "execution_count": 17,
   "metadata": {},
   "outputs": [
    {
     "ename": "TypeError",
     "evalue": "function2() missing 1 required positional argument: 'self'",
     "output_type": "error",
     "traceback": [
      "\u001b[0;31m---------------------------------------------------------------------------\u001b[0m",
      "\u001b[0;31mTypeError\u001b[0m                                 Traceback (most recent call last)",
      "\u001b[0;32m<ipython-input-17-3337dba7aba9>\u001b[0m in \u001b[0;36m<module>\u001b[0;34m\u001b[0m\n\u001b[0;32m----> 1\u001b[0;31m \u001b[0mSelfTest\u001b[0m\u001b[0;34m.\u001b[0m\u001b[0mfunction2\u001b[0m\u001b[0;34m(\u001b[0m\u001b[0;34m)\u001b[0m\u001b[0;34m\u001b[0m\u001b[0;34m\u001b[0m\u001b[0m\n\u001b[0m",
      "\u001b[0;31mTypeError\u001b[0m: function2() missing 1 required positional argument: 'self'"
     ]
    }
   ],
   "source": [
    "SelfTest.function2()"
   ]
  },
  {
   "cell_type": "code",
   "execution_count": 18,
   "metadata": {},
   "outputs": [
    {
     "name": "stdout",
     "output_type": "stream",
     "text": [
      "139889224661648\n",
      "Function2 called\n"
     ]
    }
   ],
   "source": [
    "SelfTest.function2(self_test)"
   ]
  },
  {
   "cell_type": "markdown",
   "metadata": {},
   "source": [
    "### Example 3\n",
    "Class variable, instance variable"
   ]
  },
  {
   "cell_type": "code",
   "execution_count": 36,
   "metadata": {},
   "outputs": [],
   "source": [
    "class WareHouse:\n",
    "    # Class variable\n",
    "    stock_num = 0\n",
    "    def __init__(self, name):\n",
    "        self.name = name\n",
    "        WareHouse.stock_num += 1\n",
    "        \n",
    "    def __del__(self):\n",
    "        WareHouse.stock_num -= 1\n",
    "        \n",
    "user1 = WareHouse('Kim')\n",
    "user2 = WareHouse('Park')\n",
    "user3 = WareHouse('Lee')"
   ]
  },
  {
   "cell_type": "code",
   "execution_count": 37,
   "metadata": {},
   "outputs": [
    {
     "name": "stdout",
     "output_type": "stream",
     "text": [
      "{'name': 'Kim'}\n",
      "{'name': 'Park'}\n",
      "{'name': 'Lee'}\n"
     ]
    }
   ],
   "source": [
    "print(user1.__dict__)\n",
    "print(user2.__dict__)\n",
    "print(user3.__dict__)"
   ]
  },
  {
   "cell_type": "code",
   "execution_count": 38,
   "metadata": {},
   "outputs": [
    {
     "name": "stdout",
     "output_type": "stream",
     "text": [
      "{'__module__': '__main__', 'stock_num': 3, '__init__': <function WareHouse.__init__ at 0x7f3a7f3c1440>, '__del__': <function WareHouse.__del__ at 0x7f3a7f3c13b0>, '__dict__': <attribute '__dict__' of 'WareHouse' objects>, '__weakref__': <attribute '__weakref__' of 'WareHouse' objects>, '__doc__': None}\n"
     ]
    }
   ],
   "source": [
    "print(WareHouse.__dict__)"
   ]
  },
  {
   "cell_type": "code",
   "execution_count": 39,
   "metadata": {},
   "outputs": [
    {
     "name": "stdout",
     "output_type": "stream",
     "text": [
      "Kim\n",
      "Park\n",
      "Lee\n"
     ]
    }
   ],
   "source": [
    "print(user1.name)\n",
    "print(user2.name)\n",
    "print(user3.name)"
   ]
  },
  {
   "cell_type": "code",
   "execution_count": 40,
   "metadata": {},
   "outputs": [
    {
     "name": "stdout",
     "output_type": "stream",
     "text": [
      "3\n",
      "3\n",
      "3\n"
     ]
    }
   ],
   "source": [
    "print(user1.stock_num)\n",
    "print(user2.stock_num)\n",
    "print(user3.stock_num)"
   ]
  },
  {
   "cell_type": "code",
   "execution_count": 41,
   "metadata": {},
   "outputs": [
    {
     "name": "stdout",
     "output_type": "stream",
     "text": [
      "2\n",
      "2\n"
     ]
    }
   ],
   "source": [
    "del user1\n",
    "\n",
    "print(user2.stock_num)\n",
    "print(user3.stock_num)"
   ]
  },
  {
   "cell_type": "markdown",
   "metadata": {},
   "source": [
    "## Inheritance"
   ]
  },
  {
   "cell_type": "markdown",
   "metadata": {},
   "source": [
    "### Example 1 (Basic Inheritance)"
   ]
  },
  {
   "cell_type": "code",
   "execution_count": 42,
   "metadata": {},
   "outputs": [],
   "source": [
    "class Car:\n",
    "    \"\"\"\n",
    "    Parent Class\n",
    "    \"\"\"\n",
    "    def __init__(self, tp, color):\n",
    "        self.type = tp\n",
    "        self.color = color\n",
    "        \n",
    "    def show(self):\n",
    "        return 'Car Class \"Show Method!\"'"
   ]
  },
  {
   "cell_type": "code",
   "execution_count": 43,
   "metadata": {},
   "outputs": [],
   "source": [
    "class BmwCar(Car):\n",
    "    \"\"\"\n",
    "    SubClass\n",
    "    \"\"\"\n",
    "    def __init__(self, car_name, tp, color):\n",
    "        super().__init__(tp, color)\n",
    "        self.car_name = car_name\n",
    "        \n",
    "    def show_model(self) -> None:\n",
    "        return \"Your Car Name : %s\" % self.car_name"
   ]
  },
  {
   "cell_type": "code",
   "execution_count": 59,
   "metadata": {},
   "outputs": [],
   "source": [
    "class BenzCar(Car):\n",
    "    \"\"\"\n",
    "    SubClass\n",
    "    \"\"\"\n",
    "    def __init__(self, car_name, tp, color):\n",
    "        super().__init__(tp, color)\n",
    "        self.car_name = car_name\n",
    "        \n",
    "    def show_model(self) -> None:\n",
    "        return \"Your Car Name : %s\" % self.car_name\n",
    "    \n",
    "    def show(self):\n",
    "        print(super().show())\n",
    "        return \"Car Info : %s %s %s\" % (self.car_name, self.type, self.color)"
   ]
  },
  {
   "cell_type": "code",
   "execution_count": 60,
   "metadata": {},
   "outputs": [],
   "source": [
    "model1 = BmwCar('520d', 'sedan', 'red')"
   ]
  },
  {
   "cell_type": "code",
   "execution_count": 61,
   "metadata": {},
   "outputs": [
    {
     "name": "stdout",
     "output_type": "stream",
     "text": [
      "red\n",
      "sedan\n",
      "520d\n",
      "Car Class \"Show Method!\"\n",
      "Your Car Name : 520d\n",
      "{'type': 'sedan', 'color': 'red', 'car_name': '520d'}\n"
     ]
    }
   ],
   "source": [
    "print(model1.color) # Super\n",
    "print(model1.type) # Super\n",
    "print(model1.car_name) # Sub\n",
    "print(model1.show()) # Super\n",
    "print(model1.show_model()) # Sub\n",
    "print(model1.__dict__)"
   ]
  },
  {
   "cell_type": "markdown",
   "metadata": {},
   "source": [
    "### Example 2 (Method Overriding)"
   ]
  },
  {
   "cell_type": "code",
   "execution_count": 62,
   "metadata": {},
   "outputs": [],
   "source": [
    "model2 = BenzCar(\"220d\", \"suv\", \"black\")"
   ]
  },
  {
   "cell_type": "code",
   "execution_count": 63,
   "metadata": {},
   "outputs": [
    {
     "name": "stdout",
     "output_type": "stream",
     "text": [
      "Car Class \"Show Method!\"\n",
      "Car Info : 220d suv black\n"
     ]
    }
   ],
   "source": [
    "print(model2.show())"
   ]
  },
  {
   "cell_type": "markdown",
   "metadata": {},
   "source": [
    "### Example 3 (Parent Method Call)"
   ]
  },
  {
   "cell_type": "code",
   "execution_count": 64,
   "metadata": {},
   "outputs": [],
   "source": [
    "model3 = BenzCar(\"350s\", \"sedan\", \"silver\")"
   ]
  },
  {
   "cell_type": "code",
   "execution_count": 66,
   "metadata": {},
   "outputs": [
    {
     "name": "stdout",
     "output_type": "stream",
     "text": [
      "Car Class \"Show Method!\"\n",
      "Car Info : 350s sedan silver\n"
     ]
    }
   ],
   "source": [
    "print(model3.show())"
   ]
  },
  {
   "cell_type": "markdown",
   "metadata": {},
   "source": [
    "### Example 4 (Inheritance Info)"
   ]
  },
  {
   "cell_type": "code",
   "execution_count": 68,
   "metadata": {},
   "outputs": [
    {
     "name": "stdout",
     "output_type": "stream",
     "text": [
      "[<class '__main__.BmwCar'>, <class '__main__.Car'>, <class 'object'>]\n",
      "[<class '__main__.BenzCar'>, <class '__main__.Car'>, <class 'object'>]\n"
     ]
    }
   ],
   "source": [
    "print(BmwCar.mro())\n",
    "print(BenzCar.mro())"
   ]
  },
  {
   "cell_type": "markdown",
   "metadata": {},
   "source": [
    "### Example 5 (Multi Inheritance)"
   ]
  },
  {
   "cell_type": "code",
   "execution_count": 69,
   "metadata": {},
   "outputs": [],
   "source": [
    "class X():\n",
    "    pass\n",
    "\n",
    "class Y():\n",
    "    pass\n",
    "\n",
    "class Z():\n",
    "    pass\n",
    "\n",
    "class A(X, Y):\n",
    "    pass\n",
    "\n",
    "class B(Y, Z):\n",
    "    pass\n",
    "\n",
    "class M(B, A, Z):\n",
    "    pass"
   ]
  },
  {
   "cell_type": "code",
   "execution_count": 70,
   "metadata": {},
   "outputs": [
    {
     "name": "stdout",
     "output_type": "stream",
     "text": [
      "[<class '__main__.M'>, <class '__main__.B'>, <class '__main__.A'>, <class '__main__.X'>, <class '__main__.Y'>, <class '__main__.Z'>, <class 'object'>]\n"
     ]
    }
   ],
   "source": [
    "print(M.mro())"
   ]
  },
  {
   "cell_type": "code",
   "execution_count": 71,
   "metadata": {},
   "outputs": [
    {
     "name": "stdout",
     "output_type": "stream",
     "text": [
      "[<class '__main__.A'>, <class '__main__.X'>, <class '__main__.Y'>, <class 'object'>]\n"
     ]
    }
   ],
   "source": [
    "print(A.mro())"
   ]
  }
 ],
 "metadata": {
  "kernelspec": {
   "display_name": "Python 3",
   "language": "python",
   "name": "python3"
  },
  "language_info": {
   "codemirror_mode": {
    "name": "ipython",
    "version": 3
   },
   "file_extension": ".py",
   "mimetype": "text/x-python",
   "name": "python",
   "nbconvert_exporter": "python",
   "pygments_lexer": "ipython3",
   "version": "3.7.6"
  }
 },
 "nbformat": 4,
 "nbformat_minor": 4
}
