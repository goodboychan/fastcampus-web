{
 "cells": [
  {
   "cell_type": "markdown",
   "metadata": {},
   "source": [
    "# Python Function and Lambda syntax\n",
    "\n",
    "> Summary\n",
    "\n",
    "- toc: true \n",
    "- badges: true\n",
    "- comments: true\n",
    "- author: Chanseok Kang\n",
    "- categories: [python, fastcampus]\n",
    "- image: "
   ]
  },
  {
   "cell_type": "markdown",
   "metadata": {},
   "source": [
    "## Function \n",
    "\n",
    "### Definition\n",
    "```python\n",
    "def func(parameter):\n",
    "    code\n",
    "```\n",
    "\n",
    "### Call\n",
    "```python\n",
    "func(parameter)\n",
    "```"
   ]
  },
  {
   "cell_type": "markdown",
   "metadata": {},
   "source": [
    "#### Example 1"
   ]
  },
  {
   "cell_type": "code",
   "execution_count": 1,
   "metadata": {},
   "outputs": [
    {
     "name": "stdout",
     "output_type": "stream",
     "text": [
      "Hello  Python!\n",
      "Hello  7777\n"
     ]
    }
   ],
   "source": [
    "def hello(world):\n",
    "    print(\"Hello \", world)\n",
    "    \n",
    "hello(\"Python!\")\n",
    "hello(7777)"
   ]
  },
  {
   "cell_type": "markdown",
   "metadata": {},
   "source": [
    "#### Example 2"
   ]
  },
  {
   "cell_type": "code",
   "execution_count": 2,
   "metadata": {},
   "outputs": [
    {
     "name": "stdout",
     "output_type": "stream",
     "text": [
      "Hello Python!!!!\n"
     ]
    }
   ],
   "source": [
    "def hello_return(world):\n",
    "    val = \"Hello \" + str(world)\n",
    "    return val\n",
    "\n",
    "test = hello_return(\"Python!!!!\")\n",
    "print(test)"
   ]
  },
  {
   "cell_type": "markdown",
   "metadata": {},
   "source": [
    "#### Example 3"
   ]
  },
  {
   "cell_type": "code",
   "execution_count": 3,
   "metadata": {},
   "outputs": [
    {
     "name": "stdout",
     "output_type": "stream",
     "text": [
      "10000 20000 30000\n"
     ]
    }
   ],
   "source": [
    "def func_mul(x):\n",
    "    y1 = x * 100\n",
    "    y2 = x * 200\n",
    "    y3 = x * 300\n",
    "    return y1, y2, y3\n",
    "\n",
    "val1, val2, val3 = func_mul(100)\n",
    "print(val1, val2, val3)"
   ]
  },
  {
   "cell_type": "markdown",
   "metadata": {},
   "source": [
    "#### Example 4 (Multiple Argument)"
   ]
  },
  {
   "cell_type": "code",
   "execution_count": 5,
   "metadata": {},
   "outputs": [
    {
     "name": "stdout",
     "output_type": "stream",
     "text": [
      "[10000, 20000, 30000] <class 'list'>\n"
     ]
    }
   ],
   "source": [
    "def func_mul2(x):\n",
    "    y1 = x * 100\n",
    "    y2 = x * 200\n",
    "    y3 = x * 300\n",
    "    return [y1, y2, y3]\n",
    "\n",
    "lt = func_mul2(100)\n",
    "print(lt, type(lt))"
   ]
  },
  {
   "cell_type": "markdown",
   "metadata": {},
   "source": [
    "#### Example 5 (Function Argument)"
   ]
  },
  {
   "cell_type": "code",
   "execution_count": 6,
   "metadata": {},
   "outputs": [
    {
     "name": "stdout",
     "output_type": "stream",
     "text": [
      "('kim',)\n"
     ]
    }
   ],
   "source": [
    "def args_func(*args):\n",
    "    print(args)\n",
    "    \n",
    "args_func('kim')"
   ]
  },
  {
   "cell_type": "code",
   "execution_count": 8,
   "metadata": {},
   "outputs": [
    {
     "name": "stdout",
     "output_type": "stream",
     "text": [
      "('kim', 'park')\n",
      "('kim', 'park', 'LEE')\n"
     ]
    }
   ],
   "source": [
    "args_func('kim', 'park')\n",
    "args_func('kim', 'park', 'LEE')"
   ]
  },
  {
   "cell_type": "code",
   "execution_count": 9,
   "metadata": {},
   "outputs": [],
   "source": [
    "def args_func2(*args):\n",
    "    for t in args:\n",
    "        print(t)"
   ]
  },
  {
   "cell_type": "code",
   "execution_count": 11,
   "metadata": {},
   "outputs": [
    {
     "name": "stdout",
     "output_type": "stream",
     "text": [
      "kim\n",
      "park\n",
      "kim\n",
      "park\n",
      "LEE\n"
     ]
    }
   ],
   "source": [
    "args_func2('kim', 'park')\n",
    "args_func2('kim', 'park', 'LEE')"
   ]
  },
  {
   "cell_type": "code",
   "execution_count": 12,
   "metadata": {},
   "outputs": [
    {
     "name": "stdout",
     "output_type": "stream",
     "text": [
      "0 kim\n",
      "1 park\n",
      "2 lee\n"
     ]
    }
   ],
   "source": [
    "def args_func3(*args):\n",
    "    for i, v in enumerate(args):\n",
    "        print(i, v)\n",
    "        \n",
    "args_func3('kim', 'park', 'lee')"
   ]
  },
  {
   "cell_type": "code",
   "execution_count": 13,
   "metadata": {},
   "outputs": [
    {
     "name": "stdout",
     "output_type": "stream",
     "text": [
      "{'name1': 'kim', 'name2': 'park', 'name3': 'lee'}\n"
     ]
    }
   ],
   "source": [
    "def kwargs_func(**kwargs):\n",
    "    print(kwargs)\n",
    "    \n",
    "kwargs_func(name1='kim', name2='park', name3='lee')"
   ]
  },
  {
   "cell_type": "code",
   "execution_count": 15,
   "metadata": {},
   "outputs": [
    {
     "name": "stdout",
     "output_type": "stream",
     "text": [
      "name1 kim\n",
      "name2 park\n"
     ]
    }
   ],
   "source": [
    "def kwargs_func2(**kwargs):\n",
    "    for k, v in kwargs.items():\n",
    "        print(k, v)\n",
    "        \n",
    "kwargs_func2(name1='kim', name2='park')"
   ]
  },
  {
   "cell_type": "markdown",
   "metadata": {},
   "source": [
    "#### Example 6 (Mixed Argument)"
   ]
  },
  {
   "cell_type": "code",
   "execution_count": 17,
   "metadata": {},
   "outputs": [
    {
     "name": "stdout",
     "output_type": "stream",
     "text": [
      "10 20 () {}\n",
      "10 20 ('park', 'kim') {}\n",
      "10 20 ('park', 'kim') {'age1': 24, 'age2': 25}\n"
     ]
    }
   ],
   "source": [
    "def example_mul(arg1, arg2, *args, **kwargs):\n",
    "    print(arg1, arg2, args, kwargs)\n",
    "    \n",
    "example_mul(10, 20)\n",
    "example_mul(10, 20, 'park', 'kim')\n",
    "example_mul(10, 20, 'park', 'kim', age1=24, age2=25)"
   ]
  },
  {
   "cell_type": "markdown",
   "metadata": {},
   "source": [
    "#### Example 7 (Closure)"
   ]
  },
  {
   "cell_type": "code",
   "execution_count": 21,
   "metadata": {},
   "outputs": [
    {
     "name": "stdout",
     "output_type": "stream",
     "text": [
      "in func\n",
      ">>> 2000\n"
     ]
    }
   ],
   "source": [
    "def nested_func(num):\n",
    "    def func_in_func(num):\n",
    "        print('>>>', num)\n",
    "        \n",
    "    print(\"in func\")\n",
    "    func_in_func(num + 1000)\n",
    "    \n",
    "nested_func(1000)"
   ]
  },
  {
   "cell_type": "markdown",
   "metadata": {},
   "source": [
    "#### Example 8 (Hint)"
   ]
  },
  {
   "cell_type": "code",
   "execution_count": 23,
   "metadata": {},
   "outputs": [
    {
     "data": {
      "text/plain": [
       "[100000.0, 200000.0, 300000.0]"
      ]
     },
     "execution_count": 23,
     "metadata": {},
     "output_type": "execute_result"
    }
   ],
   "source": [
    "def func_mul3(x: int) -> list:\n",
    "    y1 = x * 100\n",
    "    y2 = x * 200\n",
    "    y3 = x * 300\n",
    "    return [y1, y2, y3]\n",
    "\n",
    "func_mul3(1000.0)"
   ]
  },
  {
   "cell_type": "markdown",
   "metadata": {},
   "source": [
    "## Lambda\n",
    "- Memory Efficient, Readability, Code cleaness\n",
    "- Function: create object -> resource(memory) allocation\n",
    "- Lambda: Dynamic execution -> Heap initialization (Memory initialization)"
   ]
  },
  {
   "cell_type": "markdown",
   "metadata": {},
   "source": [
    "#### Example 1"
   ]
  },
  {
   "cell_type": "code",
   "execution_count": 26,
   "metadata": {},
   "outputs": [
    {
     "name": "stdout",
     "output_type": "stream",
     "text": [
      "<function mul_10 at 0x7f3104f0b8c0>\n",
      "<class 'function'>\n",
      "100\n"
     ]
    }
   ],
   "source": [
    "def mul_10(num: int) -> int:\n",
    "    return num * 10\n",
    "\n",
    "var_func = mul_10\n",
    "print(var_func)\n",
    "print(type(var_func))\n",
    "print(var_func(10))"
   ]
  },
  {
   "cell_type": "code",
   "execution_count": 29,
   "metadata": {},
   "outputs": [
    {
     "name": "stdout",
     "output_type": "stream",
     "text": [
      "<function <lambda> at 0x7f3104f0bdd0>\n",
      "<class 'function'>\n",
      "100\n"
     ]
    }
   ],
   "source": [
    "lambda_mul_10 = lambda num: num * 10\n",
    "print(lambda_mul_10)\n",
    "print(type(lambda_mul_10))\n",
    "print(lambda_mul_10(10))"
   ]
  },
  {
   "cell_type": "markdown",
   "metadata": {},
   "source": [
    "#### Example 2"
   ]
  },
  {
   "cell_type": "code",
   "execution_count": 30,
   "metadata": {},
   "outputs": [
    {
     "name": "stdout",
     "output_type": "stream",
     "text": [
      "10000\n"
     ]
    }
   ],
   "source": [
    "def func_final(x, y, func):\n",
    "    print(x * y * func(10))\n",
    "    \n",
    "func_final(10, 10, lambda_mul_10)"
   ]
  },
  {
   "cell_type": "code",
   "execution_count": 31,
   "metadata": {},
   "outputs": [
    {
     "name": "stdout",
     "output_type": "stream",
     "text": [
      "1000000\n",
      "None\n"
     ]
    }
   ],
   "source": [
    "print(func_final(10, 10, lambda x : x * 1000))"
   ]
  }
 ],
 "metadata": {
  "kernelspec": {
   "display_name": "Python 3",
   "language": "python",
   "name": "python3"
  },
  "language_info": {
   "codemirror_mode": {
    "name": "ipython",
    "version": 3
   },
   "file_extension": ".py",
   "mimetype": "text/x-python",
   "name": "python",
   "nbconvert_exporter": "python",
   "pygments_lexer": "ipython3",
   "version": "3.7.10"
  }
 },
 "nbformat": 4,
 "nbformat_minor": 4
}
