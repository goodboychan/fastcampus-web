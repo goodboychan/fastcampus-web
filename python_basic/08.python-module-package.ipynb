{
 "cells": [
  {
   "cell_type": "markdown",
   "id": "90125913-6d66-4d6e-a15f-60dc049869f1",
   "metadata": {},
   "source": [
    "# Python Module\n",
    "\n",
    "> Summary\n",
    "\n",
    "- toc: true \n",
    "- badges: true\n",
    "- comments: true\n",
    "- author: Chanseok Kang\n",
    "- categories: [python, fastcampus]\n",
    "- image: "
   ]
  },
  {
   "cell_type": "markdown",
   "id": "d8c63c96-fbc9-412a-ba23-2377f128f69d",
   "metadata": {},
   "source": [
    "## Example 1"
   ]
  },
  {
   "cell_type": "code",
   "execution_count": 1,
   "id": "326b2f63-f3b2-4e11-b4ce-93a12b04c913",
   "metadata": {},
   "outputs": [],
   "source": [
    "from pkg.fibonacci import Fibonacci"
   ]
  },
  {
   "cell_type": "code",
   "execution_count": 2,
   "id": "2f1932ee-6f55-4f69-92fe-e3183e86115b",
   "metadata": {},
   "outputs": [
    {
     "name": "stdout",
     "output_type": "stream",
     "text": [
      "0 1 1 2 3 5 8 13 21 34 55 89 144 233 \n"
     ]
    }
   ],
   "source": [
    "Fibonacci.fib(300)"
   ]
  },
  {
   "cell_type": "code",
   "execution_count": 3,
   "id": "07391065-8cf4-43f8-b5ec-a08483a140d2",
   "metadata": {},
   "outputs": [
    {
     "data": {
      "text/plain": [
       "[0, 1, 1, 2, 3, 5, 8, 13, 21, 34, 55, 89, 144, 233, 377]"
      ]
     },
     "execution_count": 3,
     "metadata": {},
     "output_type": "execute_result"
    }
   ],
   "source": [
    "Fibonacci.fib2(400)"
   ]
  },
  {
   "cell_type": "code",
   "execution_count": 5,
   "id": "596d105e-9fd1-4540-b9a5-0e32131fef4c",
   "metadata": {},
   "outputs": [
    {
     "data": {
      "text/plain": [
       "'fibonacci'"
      ]
     },
     "execution_count": 5,
     "metadata": {},
     "output_type": "execute_result"
    }
   ],
   "source": [
    "Fibonacci().title"
   ]
  },
  {
   "cell_type": "markdown",
   "id": "be8ae65b-435f-49e8-8ba3-0a9b499b3648",
   "metadata": {},
   "source": [
    "## Example 2\n",
    "\n",
    "> Note: Not recommended"
   ]
  },
  {
   "cell_type": "code",
   "execution_count": 6,
   "id": "669dd6fb-3c5c-423a-af8b-b40d6fe3763c",
   "metadata": {},
   "outputs": [],
   "source": [
    "from pkg.fibonacci import *"
   ]
  },
  {
   "cell_type": "code",
   "execution_count": 8,
   "id": "4d27858b-64bf-4a03-a9bf-4d31cec7d08a",
   "metadata": {},
   "outputs": [
    {
     "name": "stdout",
     "output_type": "stream",
     "text": [
      "0 1 1 2 3 5 8 13 21 34 55 89 144 233 \n"
     ]
    }
   ],
   "source": [
    "Fibonacci.fib(300)"
   ]
  },
  {
   "cell_type": "code",
   "execution_count": 9,
   "id": "a60c32cc-de2e-4546-985b-85659570c601",
   "metadata": {},
   "outputs": [
    {
     "data": {
      "text/plain": [
       "[0, 1, 1, 2, 3, 5, 8, 13, 21, 34, 55, 89, 144, 233, 377]"
      ]
     },
     "execution_count": 9,
     "metadata": {},
     "output_type": "execute_result"
    }
   ],
   "source": [
    "Fibonacci.fib2(400)"
   ]
  },
  {
   "cell_type": "markdown",
   "id": "7307ebf3-1414-40ce-8d01-b266aea2a02e",
   "metadata": {},
   "source": [
    "## Example 3"
   ]
  },
  {
   "cell_type": "code",
   "execution_count": 10,
   "id": "a979931b-b2af-47a0-baa7-e351bec11982",
   "metadata": {},
   "outputs": [],
   "source": [
    "from pkg.fibonacci import Fibonacci as fb"
   ]
  },
  {
   "cell_type": "code",
   "execution_count": 11,
   "id": "dfdbca90-eb0f-40d6-9fec-8f8c16be354a",
   "metadata": {},
   "outputs": [
    {
     "name": "stdout",
     "output_type": "stream",
     "text": [
      "0 1 1 2 3 5 8 13 21 34 55 89 144 233 377 \n"
     ]
    }
   ],
   "source": [
    "fb.fib(500)"
   ]
  },
  {
   "cell_type": "code",
   "execution_count": 12,
   "id": "7d86c977-742b-48a6-afd8-4c8dd2229b24",
   "metadata": {},
   "outputs": [
    {
     "data": {
      "text/plain": [
       "[0, 1, 1, 2, 3, 5, 8, 13, 21, 34, 55, 89, 144, 233, 377, 610, 987, 1597]"
      ]
     },
     "execution_count": 12,
     "metadata": {},
     "output_type": "execute_result"
    }
   ],
   "source": [
    "fb.fib2(1600)"
   ]
  },
  {
   "cell_type": "code",
   "execution_count": 13,
   "id": "45152353-6790-420d-9bff-6e885b234271",
   "metadata": {},
   "outputs": [
    {
     "data": {
      "text/plain": [
       "'fibonacci'"
      ]
     },
     "execution_count": 13,
     "metadata": {},
     "output_type": "execute_result"
    }
   ],
   "source": [
    "fb().title"
   ]
  },
  {
   "cell_type": "markdown",
   "id": "144e6bd1-00ed-4dab-9663-43fb451a9653",
   "metadata": {},
   "source": [
    "## Example 4"
   ]
  },
  {
   "cell_type": "code",
   "execution_count": 14,
   "id": "515f4100-2e7d-4440-91cc-698fe204776e",
   "metadata": {},
   "outputs": [],
   "source": [
    "import pkg.calculations as c"
   ]
  },
  {
   "cell_type": "code",
   "execution_count": 15,
   "id": "d80ddbe0-e986-4894-aadd-5f5b03f1f59d",
   "metadata": {},
   "outputs": [
    {
     "data": {
      "text/plain": [
       "110"
      ]
     },
     "execution_count": 15,
     "metadata": {},
     "output_type": "execute_result"
    }
   ],
   "source": [
    "c.add(10, 100)"
   ]
  },
  {
   "cell_type": "code",
   "execution_count": 16,
   "id": "21d84e4a-8372-438f-ae2b-77db84784d0f",
   "metadata": {},
   "outputs": [
    {
     "data": {
      "text/plain": [
       "1000"
      ]
     },
     "execution_count": 16,
     "metadata": {},
     "output_type": "execute_result"
    }
   ],
   "source": [
    "c.mul(10, 100)"
   ]
  },
  {
   "cell_type": "markdown",
   "id": "69d97379-ed0e-44b9-8e09-e414091b2ac8",
   "metadata": {},
   "source": [
    "## Example 5"
   ]
  },
  {
   "cell_type": "code",
   "execution_count": 17,
   "id": "c8620086-fe8e-4403-bfc0-2daa9b2977a6",
   "metadata": {},
   "outputs": [],
   "source": [
    "from pkg.calculations import div as d"
   ]
  },
  {
   "cell_type": "code",
   "execution_count": 18,
   "id": "bb723303-eb95-4fc9-a87e-040f0557c9b9",
   "metadata": {},
   "outputs": [
    {
     "data": {
      "text/plain": [
       "10.0"
      ]
     },
     "execution_count": 18,
     "metadata": {},
     "output_type": "execute_result"
    }
   ],
   "source": [
    "d(100, 10)"
   ]
  },
  {
   "cell_type": "markdown",
   "id": "964109c3-ff9f-498d-adb7-3ec54cae56bc",
   "metadata": {},
   "source": [
    "## Example 6"
   ]
  },
  {
   "cell_type": "code",
   "execution_count": 19,
   "id": "2bac0b66-c8e8-4b24-b979-92d41789f316",
   "metadata": {},
   "outputs": [],
   "source": [
    "import pkg.prints as p"
   ]
  },
  {
   "cell_type": "code",
   "execution_count": 20,
   "id": "77733168-3e89-4f90-b851-7fb35abbcfde",
   "metadata": {},
   "outputs": [
    {
     "name": "stdout",
     "output_type": "stream",
     "text": [
      "I'm Niceboy!\n"
     ]
    }
   ],
   "source": [
    "p.prt1()"
   ]
  },
  {
   "cell_type": "code",
   "execution_count": 21,
   "id": "cc227ba8-5f98-4376-858f-c7e7d31984fa",
   "metadata": {},
   "outputs": [
    {
     "name": "stdout",
     "output_type": "stream",
     "text": [
      "I`m Goodboy!\n"
     ]
    }
   ],
   "source": [
    "p.prt2()"
   ]
  },
  {
   "cell_type": "code",
   "execution_count": 22,
   "id": "4096669b-8ad4-42b5-9dbd-20205b460545",
   "metadata": {},
   "outputs": [],
   "source": [
    "import builtins"
   ]
  },
  {
   "cell_type": "code",
   "execution_count": 23,
   "id": "d71926df-d6f9-4f64-9152-20dbd1cd5b31",
   "metadata": {},
   "outputs": [
    {
     "name": "stdout",
     "output_type": "stream",
     "text": [
      "['ArithmeticError', 'AssertionError', 'AttributeError', 'BaseException', 'BlockingIOError', 'BrokenPipeError', 'BufferError', 'BytesWarning', 'ChildProcessError', 'ConnectionAbortedError', 'ConnectionError', 'ConnectionRefusedError', 'ConnectionResetError', 'DeprecationWarning', 'EOFError', 'Ellipsis', 'EnvironmentError', 'Exception', 'False', 'FileExistsError', 'FileNotFoundError', 'FloatingPointError', 'FutureWarning', 'GeneratorExit', 'IOError', 'ImportError', 'ImportWarning', 'IndentationError', 'IndexError', 'InterruptedError', 'IsADirectoryError', 'KeyError', 'KeyboardInterrupt', 'LookupError', 'MemoryError', 'ModuleNotFoundError', 'NameError', 'None', 'NotADirectoryError', 'NotImplemented', 'NotImplementedError', 'OSError', 'OverflowError', 'PendingDeprecationWarning', 'PermissionError', 'ProcessLookupError', 'RecursionError', 'ReferenceError', 'ResourceWarning', 'RuntimeError', 'RuntimeWarning', 'StopAsyncIteration', 'StopIteration', 'SyntaxError', 'SyntaxWarning', 'SystemError', 'SystemExit', 'TabError', 'TimeoutError', 'True', 'TypeError', 'UnboundLocalError', 'UnicodeDecodeError', 'UnicodeEncodeError', 'UnicodeError', 'UnicodeTranslateError', 'UnicodeWarning', 'UserWarning', 'ValueError', 'Warning', 'WindowsError', 'ZeroDivisionError', '__IPYTHON__', '__build_class__', '__debug__', '__doc__', '__import__', '__loader__', '__name__', '__package__', '__spec__', 'abs', 'all', 'any', 'ascii', 'bin', 'bool', 'breakpoint', 'bytearray', 'bytes', 'callable', 'chr', 'classmethod', 'compile', 'complex', 'copyright', 'credits', 'delattr', 'dict', 'dir', 'display', 'divmod', 'enumerate', 'eval', 'exec', 'filter', 'float', 'format', 'frozenset', 'get_ipython', 'getattr', 'globals', 'hasattr', 'hash', 'help', 'hex', 'id', 'input', 'int', 'isinstance', 'issubclass', 'iter', 'len', 'license', 'list', 'locals', 'map', 'max', 'memoryview', 'min', 'next', 'object', 'oct', 'open', 'ord', 'pow', 'print', 'property', 'range', 'repr', 'reversed', 'round', 'set', 'setattr', 'slice', 'sorted', 'staticmethod', 'str', 'sum', 'super', 'tuple', 'type', 'vars', 'zip']\n"
     ]
    }
   ],
   "source": [
    "print(dir(builtins))"
   ]
  },
  {
   "cell_type": "code",
   "execution_count": null,
   "id": "2ebe86d1-b408-4e1e-9f39-1665d970ff65",
   "metadata": {},
   "outputs": [],
   "source": []
  }
 ],
 "metadata": {
  "kernelspec": {
   "display_name": "Python 3",
   "language": "python",
   "name": "python3"
  },
  "language_info": {
   "codemirror_mode": {
    "name": "ipython",
    "version": 3
   },
   "file_extension": ".py",
   "mimetype": "text/x-python",
   "name": "python",
   "nbconvert_exporter": "python",
   "pygments_lexer": "ipython3",
   "version": "3.7.10"
  }
 },
 "nbformat": 4,
 "nbformat_minor": 5
}
