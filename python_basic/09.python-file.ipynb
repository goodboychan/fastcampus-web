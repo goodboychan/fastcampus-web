{
 "cells": [
  {
   "cell_type": "markdown",
   "id": "1cd861c3",
   "metadata": {},
   "source": [
    "# Python File handling\n",
    "\n",
    "> Summary\n",
    "\n",
    "- toc: true \n",
    "- badges: true\n",
    "- comments: true\n",
    "- author: Chanseok Kang\n",
    "- categories: [python, fastcampus]\n",
    "- image: "
   ]
  },
  {
   "cell_type": "markdown",
   "id": "52e529be",
   "metadata": {},
   "source": [
    "## File Read"
   ]
  },
  {
   "cell_type": "markdown",
   "id": "c719c5b0",
   "metadata": {},
   "source": [
    "### Example 1 (File read)"
   ]
  },
  {
   "cell_type": "code",
   "execution_count": 7,
   "id": "72fdae5e",
   "metadata": {},
   "outputs": [],
   "source": [
    "f = open('./resource/review.txt', 'r')\n",
    "content = f.read()"
   ]
  },
  {
   "cell_type": "code",
   "execution_count": 8,
   "id": "4569a899",
   "metadata": {},
   "outputs": [
    {
     "name": "stdout",
     "output_type": "stream",
     "text": [
      "The film, projected in the form of animation,\n",
      "imparts the lesson of how wars can be eluded through reasoning and peaceful dialogues,\n",
      "which eventually paves the path for gaining a fresh perspective on an age-old problem.\n",
      "The story also happens to centre around two parallel characters, Shundi King and Hundi King,\n",
      "who are twins, but they constantly fight over unresolved issues planted in their minds\n",
      "by external forces from within their very own units.\n"
     ]
    }
   ],
   "source": [
    "print(content)"
   ]
  },
  {
   "cell_type": "code",
   "execution_count": 9,
   "id": "4a2eefb7",
   "metadata": {},
   "outputs": [
    {
     "name": "stdout",
     "output_type": "stream",
     "text": [
      "['_CHUNK_SIZE', '__class__', '__del__', '__delattr__', '__dict__', '__dir__', '__doc__', '__enter__', '__eq__', '__exit__', '__format__', '__ge__', '__getattribute__', '__getstate__', '__gt__', '__hash__', '__init__', '__init_subclass__', '__iter__', '__le__', '__lt__', '__ne__', '__new__', '__next__', '__reduce__', '__reduce_ex__', '__repr__', '__setattr__', '__sizeof__', '__str__', '__subclasshook__', '_checkClosed', '_checkReadable', '_checkSeekable', '_checkWritable', '_finalizing', 'buffer', 'close', 'closed', 'detach', 'encoding', 'errors', 'fileno', 'flush', 'isatty', 'line_buffering', 'mode', 'name', 'newlines', 'read', 'readable', 'readline', 'readlines', 'reconfigure', 'seek', 'seekable', 'tell', 'truncate', 'writable', 'write', 'write_through', 'writelines']\n"
     ]
    }
   ],
   "source": [
    "print(dir(f))"
   ]
  },
  {
   "cell_type": "code",
   "execution_count": 10,
   "id": "164d828e",
   "metadata": {},
   "outputs": [],
   "source": [
    "f.close()"
   ]
  },
  {
   "cell_type": "markdown",
   "id": "25ae9f17",
   "metadata": {},
   "source": [
    "### Example 2 (with)"
   ]
  },
  {
   "cell_type": "code",
   "execution_count": 13,
   "id": "9e057efb",
   "metadata": {},
   "outputs": [
    {
     "name": "stdout",
     "output_type": "stream",
     "text": [
      "The film, projected in the form of animation,\n",
      "imparts the lesson of how wars can be eluded through reasoning and peaceful dialogues,\n",
      "which eventually paves the path for gaining a fresh perspective on an age-old problem.\n",
      "The story also happens to centre around two parallel characters, Shundi King and Hundi King,\n",
      "who are twins, but they constantly fight over unresolved issues planted in their minds\n",
      "by external forces from within their very own units.\n",
      "['T', 'h', 'e', ' ', 'f', 'i', 'l', 'm', ',', ' ', 'p', 'r', 'o', 'j', 'e', 'c', 't', 'e', 'd', ' ', 'i', 'n', ' ', 't', 'h', 'e', ' ', 'f', 'o', 'r', 'm', ' ', 'o', 'f', ' ', 'a', 'n', 'i', 'm', 'a', 't', 'i', 'o', 'n', ',', '\\n', 'i', 'm', 'p', 'a', 'r', 't', 's', ' ', 't', 'h', 'e', ' ', 'l', 'e', 's', 's', 'o', 'n', ' ', 'o', 'f', ' ', 'h', 'o', 'w', ' ', 'w', 'a', 'r', 's', ' ', 'c', 'a', 'n', ' ', 'b', 'e', ' ', 'e', 'l', 'u', 'd', 'e', 'd', ' ', 't', 'h', 'r', 'o', 'u', 'g', 'h', ' ', 'r', 'e', 'a', 's', 'o', 'n', 'i', 'n', 'g', ' ', 'a', 'n', 'd', ' ', 'p', 'e', 'a', 'c', 'e', 'f', 'u', 'l', ' ', 'd', 'i', 'a', 'l', 'o', 'g', 'u', 'e', 's', ',', '\\n', 'w', 'h', 'i', 'c', 'h', ' ', 'e', 'v', 'e', 'n', 't', 'u', 'a', 'l', 'l', 'y', ' ', 'p', 'a', 'v', 'e', 's', ' ', 't', 'h', 'e', ' ', 'p', 'a', 't', 'h', ' ', 'f', 'o', 'r', ' ', 'g', 'a', 'i', 'n', 'i', 'n', 'g', ' ', 'a', ' ', 'f', 'r', 'e', 's', 'h', ' ', 'p', 'e', 'r', 's', 'p', 'e', 'c', 't', 'i', 'v', 'e', ' ', 'o', 'n', ' ', 'a', 'n', ' ', 'a', 'g', 'e', '-', 'o', 'l', 'd', ' ', 'p', 'r', 'o', 'b', 'l', 'e', 'm', '.', '\\n', 'T', 'h', 'e', ' ', 's', 't', 'o', 'r', 'y', ' ', 'a', 'l', 's', 'o', ' ', 'h', 'a', 'p', 'p', 'e', 'n', 's', ' ', 't', 'o', ' ', 'c', 'e', 'n', 't', 'r', 'e', ' ', 'a', 'r', 'o', 'u', 'n', 'd', ' ', 't', 'w', 'o', ' ', 'p', 'a', 'r', 'a', 'l', 'l', 'e', 'l', ' ', 'c', 'h', 'a', 'r', 'a', 'c', 't', 'e', 'r', 's', ',', ' ', 'S', 'h', 'u', 'n', 'd', 'i', ' ', 'K', 'i', 'n', 'g', ' ', 'a', 'n', 'd', ' ', 'H', 'u', 'n', 'd', 'i', ' ', 'K', 'i', 'n', 'g', ',', '\\n', 'w', 'h', 'o', ' ', 'a', 'r', 'e', ' ', 't', 'w', 'i', 'n', 's', ',', ' ', 'b', 'u', 't', ' ', 't', 'h', 'e', 'y', ' ', 'c', 'o', 'n', 's', 't', 'a', 'n', 't', 'l', 'y', ' ', 'f', 'i', 'g', 'h', 't', ' ', 'o', 'v', 'e', 'r', ' ', 'u', 'n', 'r', 'e', 's', 'o', 'l', 'v', 'e', 'd', ' ', 'i', 's', 's', 'u', 'e', 's', ' ', 'p', 'l', 'a', 'n', 't', 'e', 'd', ' ', 'i', 'n', ' ', 't', 'h', 'e', 'i', 'r', ' ', 'm', 'i', 'n', 'd', 's', '\\n', 'b', 'y', ' ', 'e', 'x', 't', 'e', 'r', 'n', 'a', 'l', ' ', 'f', 'o', 'r', 'c', 'e', 's', ' ', 'f', 'r', 'o', 'm', ' ', 'w', 'i', 't', 'h', 'i', 'n', ' ', 't', 'h', 'e', 'i', 'r', ' ', 'v', 'e', 'r', 'y', ' ', 'o', 'w', 'n', ' ', 'u', 'n', 'i', 't', 's', '.']\n",
      "<str_iterator object at 0x000001E3E36BD0C8>\n"
     ]
    }
   ],
   "source": [
    "with open('resource/review.txt', 'r') as f:\n",
    "    content = f.read()\n",
    "    print(content)\n",
    "    print(list(content))\n",
    "    print(iter(content))"
   ]
  },
  {
   "cell_type": "markdown",
   "id": "2c4ee1b6",
   "metadata": {},
   "source": [
    "### Example 3"
   ]
  },
  {
   "cell_type": "code",
   "execution_count": 15,
   "id": "74d39290",
   "metadata": {},
   "outputs": [
    {
     "name": "stdout",
     "output_type": "stream",
     "text": [
      "The film, projected in the form of animation,\n",
      "imparts the lesson of how wars can be eluded through reasoning and peaceful dialogues,\n",
      "which eventually paves the path for gaining a fresh perspective on an age-old problem.\n",
      "The story also happens to centre around two parallel characters, Shundi King and Hundi King,\n",
      "who are twins, but they constantly fight over unresolved issues planted in their minds\n",
      "by external forces from within their very own units.\n"
     ]
    }
   ],
   "source": [
    "with open('resource/review.txt', 'r') as f:\n",
    "    for c in f:\n",
    "        print(c.strip())"
   ]
  },
  {
   "cell_type": "markdown",
   "id": "ff945758",
   "metadata": {},
   "source": [
    "### Example 4"
   ]
  },
  {
   "cell_type": "code",
   "execution_count": 16,
   "id": "96deec99",
   "metadata": {},
   "outputs": [
    {
     "name": "stdout",
     "output_type": "stream",
     "text": [
      "> The film, projected in the form of animation,\n",
      "imparts the lesson of how wars can be eluded through reasoning and peaceful dialogues,\n",
      "which eventually paves the path for gaining a fresh perspective on an age-old problem.\n",
      "The story also happens to centre around two parallel characters, Shundi King and Hundi King,\n",
      "who are twins, but they constantly fight over unresolved issues planted in their minds\n",
      "by external forces from within their very own units.\n",
      "> \n"
     ]
    }
   ],
   "source": [
    "with open('./resource/review.txt', 'r') as f:\n",
    "    content = f.read()\n",
    "    print(\">\", content)\n",
    "    content = f.read()\n",
    "    print(\">\", content)"
   ]
  },
  {
   "cell_type": "markdown",
   "id": "818b0026",
   "metadata": {},
   "source": [
    "### Example 5"
   ]
  },
  {
   "cell_type": "code",
   "execution_count": 19,
   "id": "0762b881",
   "metadata": {},
   "outputs": [
    {
     "name": "stdout",
     "output_type": "stream",
     "text": [
      "The film, projected in the form of animation,\n",
      " imparts the lesson of how wars can be eluded through reasoning and peaceful dialogues,\n",
      " which eventually paves the path for gaining a fresh perspective on an age-old problem.\n",
      " The story also happens to centre around two parallel characters, Shundi King and Hundi King,\n",
      " who are twins, but they constantly fight over unresolved issues planted in their minds\n",
      " by external forces from within their very own units. "
     ]
    }
   ],
   "source": [
    "with open('./resource/review.txt', 'r') as f:\n",
    "    line = f.readline()\n",
    "    while line:\n",
    "        print(line, end=' ')\n",
    "        line = f.readline()"
   ]
  },
  {
   "cell_type": "markdown",
   "id": "2257b176",
   "metadata": {},
   "source": [
    "### Example 6"
   ]
  },
  {
   "cell_type": "code",
   "execution_count": 21,
   "id": "46354ed1",
   "metadata": {},
   "outputs": [
    {
     "name": "stdout",
     "output_type": "stream",
     "text": [
      "The film, projected in the form of animation,\n",
      " imparts the lesson of how wars can be eluded through reasoning and peaceful dialogues,\n",
      " which eventually paves the path for gaining a fresh perspective on an age-old problem.\n",
      " The story also happens to centre around two parallel characters, Shundi King and Hundi King,\n",
      " who are twins, but they constantly fight over unresolved issues planted in their minds\n",
      " by external forces from within their very own units. "
     ]
    }
   ],
   "source": [
    "with open('./resource/review.txt', 'r') as f:\n",
    "    contents = f.readlines()\n",
    "    for c in contents:\n",
    "        print(c, end=' ')"
   ]
  },
  {
   "cell_type": "markdown",
   "id": "6c0457b7",
   "metadata": {},
   "source": [
    "### Example 7"
   ]
  },
  {
   "cell_type": "code",
   "execution_count": 23,
   "id": "209e6872",
   "metadata": {},
   "outputs": [
    {
     "name": "stdout",
     "output_type": "stream",
     "text": [
      "[95, 78, 92, 89, 100, 66]\n",
      "Average :   86.7\n"
     ]
    }
   ],
   "source": [
    "with open('./resource/score.txt', 'r') as f:\n",
    "    score = []\n",
    "    for line in f:\n",
    "        score.append(int(line))\n",
    "    print(score)\n",
    "    print('Average : {:6.3}'.format(sum(score)/len(score)))"
   ]
  },
  {
   "cell_type": "markdown",
   "id": "8cf360eb",
   "metadata": {},
   "source": [
    "## File Write"
   ]
  },
  {
   "cell_type": "markdown",
   "id": "b2518a19",
   "metadata": {},
   "source": [
    "### Example 1"
   ]
  },
  {
   "cell_type": "code",
   "execution_count": 30,
   "id": "4712a4a0",
   "metadata": {},
   "outputs": [],
   "source": [
    "with open('./resource/text.txt', 'w') as f:\n",
    "    f.write('Niceman!\\n')"
   ]
  },
  {
   "cell_type": "code",
   "execution_count": 31,
   "id": "8644134a",
   "metadata": {},
   "outputs": [
    {
     "name": "stdout",
     "output_type": "stream",
     "text": [
      "Niceman!\n"
     ]
    }
   ],
   "source": [
    "!type .\\resource\\text.txt"
   ]
  },
  {
   "cell_type": "markdown",
   "id": "6d7a0da3",
   "metadata": {},
   "source": [
    "### Example 2"
   ]
  },
  {
   "cell_type": "code",
   "execution_count": 32,
   "id": "0599d64d",
   "metadata": {},
   "outputs": [],
   "source": [
    "with open('./resource/text.txt', 'a') as f:\n",
    "    f.write('Goodman!\\n')"
   ]
  },
  {
   "cell_type": "code",
   "execution_count": 33,
   "id": "5a28d420",
   "metadata": {},
   "outputs": [
    {
     "name": "stdout",
     "output_type": "stream",
     "text": [
      "Niceman!\n",
      "Goodman!\n"
     ]
    }
   ],
   "source": [
    "!type .\\resource\\text.txt"
   ]
  },
  {
   "cell_type": "markdown",
   "id": "b076cce3",
   "metadata": {},
   "source": [
    "### Example 3"
   ]
  },
  {
   "cell_type": "code",
   "execution_count": 34,
   "id": "777ab491",
   "metadata": {},
   "outputs": [],
   "source": [
    "from random import randint"
   ]
  },
  {
   "cell_type": "code",
   "execution_count": 37,
   "id": "6e356daa",
   "metadata": {},
   "outputs": [],
   "source": [
    "with open('./resource/text2.txt', 'w') as f:\n",
    "    for cnt in range(6):\n",
    "        f.write(str(randint(1, 50)))\n",
    "        f.write('\\n')"
   ]
  },
  {
   "cell_type": "code",
   "execution_count": 38,
   "id": "aebe884f",
   "metadata": {},
   "outputs": [
    {
     "name": "stdout",
     "output_type": "stream",
     "text": [
      "4\n",
      "34\n",
      "19\n",
      "24\n",
      "45\n",
      "24\n"
     ]
    }
   ],
   "source": [
    "!type .\\resource\\text2.txt"
   ]
  },
  {
   "cell_type": "markdown",
   "id": "4e29e42f",
   "metadata": {},
   "source": [
    "### Example 4"
   ]
  },
  {
   "cell_type": "code",
   "execution_count": 39,
   "id": "c50445c2",
   "metadata": {},
   "outputs": [],
   "source": [
    "with open('./resource/text3.txt', 'w') as f:\n",
    "    test = ['Kim\\n', 'Park\\n', 'Cho\\n']\n",
    "    f.writelines(test)"
   ]
  },
  {
   "cell_type": "code",
   "execution_count": 40,
   "id": "d9ed12d4",
   "metadata": {},
   "outputs": [
    {
     "name": "stdout",
     "output_type": "stream",
     "text": [
      "Kim\n",
      "Park\n",
      "Cho\n"
     ]
    }
   ],
   "source": [
    "!type .\\resource\\text3.txt"
   ]
  },
  {
   "cell_type": "markdown",
   "id": "b0709d65",
   "metadata": {},
   "source": [
    "### Example 5"
   ]
  },
  {
   "cell_type": "code",
   "execution_count": 41,
   "id": "5c3299d0",
   "metadata": {},
   "outputs": [],
   "source": [
    "with open('./resource/text4.txt', 'w') as f:\n",
    "    print('test contests1!', file=f)\n",
    "    print('test contests2!', file=f)"
   ]
  },
  {
   "cell_type": "code",
   "execution_count": 42,
   "id": "c44be4aa",
   "metadata": {},
   "outputs": [
    {
     "name": "stdout",
     "output_type": "stream",
     "text": [
      "test contests1!\n",
      "test contests2!\n"
     ]
    }
   ],
   "source": [
    "!type .\\resource\\text4.txt"
   ]
  },
  {
   "cell_type": "code",
   "execution_count": null,
   "id": "f52d1a0a",
   "metadata": {},
   "outputs": [],
   "source": []
  }
 ],
 "metadata": {
  "kernelspec": {
   "display_name": "Python 3",
   "language": "python",
   "name": "python3"
  },
  "language_info": {
   "codemirror_mode": {
    "name": "ipython",
    "version": 3
   },
   "file_extension": ".py",
   "mimetype": "text/x-python",
   "name": "python",
   "nbconvert_exporter": "python",
   "pygments_lexer": "ipython3",
   "version": "3.7.10"
  }
 },
 "nbformat": 4,
 "nbformat_minor": 5
}
