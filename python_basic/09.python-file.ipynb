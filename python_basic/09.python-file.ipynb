{
 "cells": [
  {
   "cell_type": "markdown",
   "id": "3954f0ef-7330-4c32-ae23-619cd22cbe48",
   "metadata": {},
   "source": [
    "# Python File handling\n",
    "\n",
    "> Summary\n",
    "\n",
    "- toc: true \n",
    "- badges: true\n",
    "- comments: true\n",
    "- author: Chanseok Kang\n",
    "- categories: [python, fastcampus]\n",
    "- image: "
   ]
  },
  {
   "cell_type": "markdown",
   "id": "d082ff0a-6fa7-4b14-8d6a-4c324e148fc0",
   "metadata": {},
   "source": [
    "## File Read"
   ]
  },
  {
   "cell_type": "markdown",
   "id": "10d21530-41b2-4f1e-bd69-4f086caca764",
   "metadata": {},
   "source": [
    "### Example 1 (File read)"
   ]
  },
  {
   "cell_type": "code",
   "execution_count": 7,
   "id": "9e5bdda6-da27-4745-88eb-94708100d4d9",
   "metadata": {},
   "outputs": [],
   "source": [
    "f = open('./resource/review.txt', 'r')\n",
    "content = f.read()"
   ]
  },
  {
   "cell_type": "code",
   "execution_count": 8,
   "id": "f47f52bc-fa4a-479b-b3ca-9651be0a2ae4",
   "metadata": {},
   "outputs": [
    {
     "name": "stdout",
     "output_type": "stream",
     "text": [
      "The film, projected in the form of animation,\n",
      "imparts the lesson of how wars can be eluded through reasoning and peaceful dialogues,\n",
      "which eventually paves the path for gaining a fresh perspective on an age-old problem.\n",
      "The story also happens to centre around two parallel characters, Shundi King and Hundi King,\n",
      "who are twins, but they constantly fight over unresolved issues planted in their minds\n",
      "by external forces from within their very own units.\n"
     ]
    }
   ],
   "source": [
    "print(content)"
   ]
  },
  {
   "cell_type": "code",
   "execution_count": 9,
   "id": "652962e7-72a5-4857-8438-639d40c7a37e",
   "metadata": {},
   "outputs": [
    {
     "name": "stdout",
     "output_type": "stream",
     "text": [
      "['_CHUNK_SIZE', '__class__', '__del__', '__delattr__', '__dict__', '__dir__', '__doc__', '__enter__', '__eq__', '__exit__', '__format__', '__ge__', '__getattribute__', '__getstate__', '__gt__', '__hash__', '__init__', '__init_subclass__', '__iter__', '__le__', '__lt__', '__ne__', '__new__', '__next__', '__reduce__', '__reduce_ex__', '__repr__', '__setattr__', '__sizeof__', '__str__', '__subclasshook__', '_checkClosed', '_checkReadable', '_checkSeekable', '_checkWritable', '_finalizing', 'buffer', 'close', 'closed', 'detach', 'encoding', 'errors', 'fileno', 'flush', 'isatty', 'line_buffering', 'mode', 'name', 'newlines', 'read', 'readable', 'readline', 'readlines', 'reconfigure', 'seek', 'seekable', 'tell', 'truncate', 'writable', 'write', 'write_through', 'writelines']\n"
     ]
    }
   ],
   "source": [
    "print(dir(f))"
   ]
  },
  {
   "cell_type": "code",
   "execution_count": 10,
   "id": "d5cface5-2595-4cc2-9351-889ae021972e",
   "metadata": {},
   "outputs": [],
   "source": [
    "f.close()"
   ]
  },
  {
   "cell_type": "markdown",
   "id": "4455c3cf-d2b0-4e85-ad4b-a29b196e3408",
   "metadata": {},
   "source": [
    "### Example 2 (with)"
   ]
  },
  {
   "cell_type": "code",
   "execution_count": 13,
   "id": "42d17c3f-decc-4907-9fa4-2229d19818e8",
   "metadata": {},
   "outputs": [
    {
     "name": "stdout",
     "output_type": "stream",
     "text": [
      "The film, projected in the form of animation,\n",
      "imparts the lesson of how wars can be eluded through reasoning and peaceful dialogues,\n",
      "which eventually paves the path for gaining a fresh perspective on an age-old problem.\n",
      "The story also happens to centre around two parallel characters, Shundi King and Hundi King,\n",
      "who are twins, but they constantly fight over unresolved issues planted in their minds\n",
      "by external forces from within their very own units.\n",
      "['T', 'h', 'e', ' ', 'f', 'i', 'l', 'm', ',', ' ', 'p', 'r', 'o', 'j', 'e', 'c', 't', 'e', 'd', ' ', 'i', 'n', ' ', 't', 'h', 'e', ' ', 'f', 'o', 'r', 'm', ' ', 'o', 'f', ' ', 'a', 'n', 'i', 'm', 'a', 't', 'i', 'o', 'n', ',', '\\n', 'i', 'm', 'p', 'a', 'r', 't', 's', ' ', 't', 'h', 'e', ' ', 'l', 'e', 's', 's', 'o', 'n', ' ', 'o', 'f', ' ', 'h', 'o', 'w', ' ', 'w', 'a', 'r', 's', ' ', 'c', 'a', 'n', ' ', 'b', 'e', ' ', 'e', 'l', 'u', 'd', 'e', 'd', ' ', 't', 'h', 'r', 'o', 'u', 'g', 'h', ' ', 'r', 'e', 'a', 's', 'o', 'n', 'i', 'n', 'g', ' ', 'a', 'n', 'd', ' ', 'p', 'e', 'a', 'c', 'e', 'f', 'u', 'l', ' ', 'd', 'i', 'a', 'l', 'o', 'g', 'u', 'e', 's', ',', '\\n', 'w', 'h', 'i', 'c', 'h', ' ', 'e', 'v', 'e', 'n', 't', 'u', 'a', 'l', 'l', 'y', ' ', 'p', 'a', 'v', 'e', 's', ' ', 't', 'h', 'e', ' ', 'p', 'a', 't', 'h', ' ', 'f', 'o', 'r', ' ', 'g', 'a', 'i', 'n', 'i', 'n', 'g', ' ', 'a', ' ', 'f', 'r', 'e', 's', 'h', ' ', 'p', 'e', 'r', 's', 'p', 'e', 'c', 't', 'i', 'v', 'e', ' ', 'o', 'n', ' ', 'a', 'n', ' ', 'a', 'g', 'e', '-', 'o', 'l', 'd', ' ', 'p', 'r', 'o', 'b', 'l', 'e', 'm', '.', '\\n', 'T', 'h', 'e', ' ', 's', 't', 'o', 'r', 'y', ' ', 'a', 'l', 's', 'o', ' ', 'h', 'a', 'p', 'p', 'e', 'n', 's', ' ', 't', 'o', ' ', 'c', 'e', 'n', 't', 'r', 'e', ' ', 'a', 'r', 'o', 'u', 'n', 'd', ' ', 't', 'w', 'o', ' ', 'p', 'a', 'r', 'a', 'l', 'l', 'e', 'l', ' ', 'c', 'h', 'a', 'r', 'a', 'c', 't', 'e', 'r', 's', ',', ' ', 'S', 'h', 'u', 'n', 'd', 'i', ' ', 'K', 'i', 'n', 'g', ' ', 'a', 'n', 'd', ' ', 'H', 'u', 'n', 'd', 'i', ' ', 'K', 'i', 'n', 'g', ',', '\\n', 'w', 'h', 'o', ' ', 'a', 'r', 'e', ' ', 't', 'w', 'i', 'n', 's', ',', ' ', 'b', 'u', 't', ' ', 't', 'h', 'e', 'y', ' ', 'c', 'o', 'n', 's', 't', 'a', 'n', 't', 'l', 'y', ' ', 'f', 'i', 'g', 'h', 't', ' ', 'o', 'v', 'e', 'r', ' ', 'u', 'n', 'r', 'e', 's', 'o', 'l', 'v', 'e', 'd', ' ', 'i', 's', 's', 'u', 'e', 's', ' ', 'p', 'l', 'a', 'n', 't', 'e', 'd', ' ', 'i', 'n', ' ', 't', 'h', 'e', 'i', 'r', ' ', 'm', 'i', 'n', 'd', 's', '\\n', 'b', 'y', ' ', 'e', 'x', 't', 'e', 'r', 'n', 'a', 'l', ' ', 'f', 'o', 'r', 'c', 'e', 's', ' ', 'f', 'r', 'o', 'm', ' ', 'w', 'i', 't', 'h', 'i', 'n', ' ', 't', 'h', 'e', 'i', 'r', ' ', 'v', 'e', 'r', 'y', ' ', 'o', 'w', 'n', ' ', 'u', 'n', 'i', 't', 's', '.']\n",
      "<str_iterator object at 0x000001E3E36BD0C8>\n"
     ]
    }
   ],
   "source": [
    "with open('resource/review.txt', 'r') as f:\n",
    "    content = f.read()\n",
    "    print(content)\n",
    "    print(list(content))\n",
    "    print(iter(content))"
   ]
  },
  {
   "cell_type": "markdown",
   "id": "f42a2b7b-3e58-473c-8f29-9ccafe2149e6",
   "metadata": {},
   "source": [
    "### Example 3"
   ]
  },
  {
   "cell_type": "code",
   "execution_count": 15,
   "id": "d61ffdc2-5f0f-40b9-b197-3998d3aa8f6b",
   "metadata": {},
   "outputs": [
    {
     "name": "stdout",
     "output_type": "stream",
     "text": [
      "The film, projected in the form of animation,\n",
      "imparts the lesson of how wars can be eluded through reasoning and peaceful dialogues,\n",
      "which eventually paves the path for gaining a fresh perspective on an age-old problem.\n",
      "The story also happens to centre around two parallel characters, Shundi King and Hundi King,\n",
      "who are twins, but they constantly fight over unresolved issues planted in their minds\n",
      "by external forces from within their very own units.\n"
     ]
    }
   ],
   "source": [
    "with open('resource/review.txt', 'r') as f:\n",
    "    for c in f:\n",
    "        print(c.strip())"
   ]
  },
  {
   "cell_type": "markdown",
   "id": "a2c4a2b4-6b04-4da1-810f-a95bc50e9a49",
   "metadata": {},
   "source": [
    "### Example 4"
   ]
  },
  {
   "cell_type": "code",
   "execution_count": 16,
   "id": "7ebaf3b4-31a7-4afc-b2ac-c20e403ed578",
   "metadata": {},
   "outputs": [
    {
     "name": "stdout",
     "output_type": "stream",
     "text": [
      "> The film, projected in the form of animation,\n",
      "imparts the lesson of how wars can be eluded through reasoning and peaceful dialogues,\n",
      "which eventually paves the path for gaining a fresh perspective on an age-old problem.\n",
      "The story also happens to centre around two parallel characters, Shundi King and Hundi King,\n",
      "who are twins, but they constantly fight over unresolved issues planted in their minds\n",
      "by external forces from within their very own units.\n",
      "> \n"
     ]
    }
   ],
   "source": [
    "with open('./resource/review.txt', 'r') as f:\n",
    "    content = f.read()\n",
    "    print(\">\", content)\n",
    "    content = f.read()\n",
    "    print(\">\", content)"
   ]
  },
  {
   "cell_type": "markdown",
   "id": "eedd7db5-d529-410e-ae0e-dde4f5af5a55",
   "metadata": {},
   "source": [
    "### Example 5"
   ]
  },
  {
   "cell_type": "code",
   "execution_count": 19,
   "id": "bbaeb82c-5618-4e8a-b137-0931dabd2ae2",
   "metadata": {},
   "outputs": [
    {
     "name": "stdout",
     "output_type": "stream",
     "text": [
      "The film, projected in the form of animation,\n",
      " imparts the lesson of how wars can be eluded through reasoning and peaceful dialogues,\n",
      " which eventually paves the path for gaining a fresh perspective on an age-old problem.\n",
      " The story also happens to centre around two parallel characters, Shundi King and Hundi King,\n",
      " who are twins, but they constantly fight over unresolved issues planted in their minds\n",
      " by external forces from within their very own units. "
     ]
    }
   ],
   "source": [
    "with open('./resource/review.txt', 'r') as f:\n",
    "    line = f.readline()\n",
    "    while line:\n",
    "        print(line, end=' ')\n",
    "        line = f.readline()"
   ]
  },
  {
   "cell_type": "markdown",
   "id": "ebc7070c-22e0-49d9-8a7e-a3d20dabc0f7",
   "metadata": {},
   "source": [
    "### Example 6"
   ]
  },
  {
   "cell_type": "code",
   "execution_count": 21,
   "id": "883d19f0-49c5-4113-86c2-bc30907e20b8",
   "metadata": {},
   "outputs": [
    {
     "name": "stdout",
     "output_type": "stream",
     "text": [
      "The film, projected in the form of animation,\n",
      " imparts the lesson of how wars can be eluded through reasoning and peaceful dialogues,\n",
      " which eventually paves the path for gaining a fresh perspective on an age-old problem.\n",
      " The story also happens to centre around two parallel characters, Shundi King and Hundi King,\n",
      " who are twins, but they constantly fight over unresolved issues planted in their minds\n",
      " by external forces from within their very own units. "
     ]
    }
   ],
   "source": [
    "with open('./resource/review.txt', 'r') as f:\n",
    "    contents = f.readlines()\n",
    "    for c in contents:\n",
    "        print(c, end=' ')"
   ]
  },
  {
   "cell_type": "markdown",
   "id": "a02b3252-1f05-4ac5-aac0-85acf7b1cc55",
   "metadata": {},
   "source": [
    "### Example 7"
   ]
  },
  {
   "cell_type": "code",
   "execution_count": 23,
   "id": "5b4d8df1-78fa-4f51-8ba3-e95923e87e70",
   "metadata": {},
   "outputs": [
    {
     "name": "stdout",
     "output_type": "stream",
     "text": [
      "[95, 78, 92, 89, 100, 66]\n",
      "Average :   86.7\n"
     ]
    }
   ],
   "source": [
    "with open('./resource/score.txt', 'r') as f:\n",
    "    score = []\n",
    "    for line in f:\n",
    "        score.append(int(line))\n",
    "    print(score)\n",
    "    print('Average : {:6.3}'.format(sum(score)/len(score)))"
   ]
  },
  {
   "cell_type": "markdown",
   "id": "f164403d-88ab-4dc9-b94c-a39776e753fd",
   "metadata": {},
   "source": [
    "## File Write"
   ]
  },
  {
   "cell_type": "markdown",
   "id": "80bd484c-7245-4d97-8644-5c7715256dc0",
   "metadata": {},
   "source": [
    "### Example 1"
   ]
  },
  {
   "cell_type": "code",
   "execution_count": 30,
   "id": "bff3e02b-e708-4972-9184-6eb6a1a49bbb",
   "metadata": {},
   "outputs": [],
   "source": [
    "with open('./resource/text.txt', 'w') as f:\n",
    "    f.write('Niceman!\\n')"
   ]
  },
  {
   "cell_type": "code",
   "execution_count": 31,
   "id": "1716aa91-1a9a-46d5-b9c1-60fd5eac1b8d",
   "metadata": {},
   "outputs": [
    {
     "name": "stdout",
     "output_type": "stream",
     "text": [
      "Niceman!\n"
     ]
    }
   ],
   "source": [
    "!type .\\resource\\text.txt"
   ]
  },
  {
   "cell_type": "markdown",
   "id": "8e789409-e46e-4204-a293-db96c6e58037",
   "metadata": {},
   "source": [
    "### Example 2"
   ]
  },
  {
   "cell_type": "code",
   "execution_count": 32,
   "id": "d4399b6b-835a-4620-8c8e-0bdffbce4d67",
   "metadata": {},
   "outputs": [],
   "source": [
    "with open('./resource/text.txt', 'a') as f:\n",
    "    f.write('Goodman!\\n')"
   ]
  },
  {
   "cell_type": "code",
   "execution_count": 33,
   "id": "48c5a0c2-5df8-4fc1-b987-cd3e28496421",
   "metadata": {},
   "outputs": [
    {
     "name": "stdout",
     "output_type": "stream",
     "text": [
      "Niceman!\n",
      "Goodman!\n"
     ]
    }
   ],
   "source": [
    "!type .\\resource\\text.txt"
   ]
  },
  {
   "cell_type": "markdown",
   "id": "bb3c5a8e-fd67-466b-a18e-7b85f935a766",
   "metadata": {},
   "source": [
    "### Example 3"
   ]
  },
  {
   "cell_type": "code",
   "execution_count": 34,
   "id": "55983b9b-03ac-49ae-9f10-0d658e32329e",
   "metadata": {},
   "outputs": [],
   "source": [
    "from random import randint"
   ]
  },
  {
   "cell_type": "code",
   "execution_count": 37,
   "id": "84ed4a4e-b60d-4163-89f7-bac46d0b8a01",
   "metadata": {},
   "outputs": [],
   "source": [
    "with open('./resource/text2.txt', 'w') as f:\n",
    "    for cnt in range(6):\n",
    "        f.write(str(randint(1, 50)))\n",
    "        f.write('\\n')"
   ]
  },
  {
   "cell_type": "code",
   "execution_count": 38,
   "id": "22c33af8-2d2f-4a24-8217-ec3b6c608ea0",
   "metadata": {},
   "outputs": [
    {
     "name": "stdout",
     "output_type": "stream",
     "text": [
      "4\n",
      "34\n",
      "19\n",
      "24\n",
      "45\n",
      "24\n"
     ]
    }
   ],
   "source": [
    "!type .\\resource\\text2.txt"
   ]
  },
  {
   "cell_type": "markdown",
   "id": "5448ae08-84ea-4d4c-a453-2120d5755fa8",
   "metadata": {},
   "source": [
    "### Example 4"
   ]
  },
  {
   "cell_type": "code",
   "execution_count": 39,
   "id": "263bc465-2e88-4e2f-80a4-91f56798f4f4",
   "metadata": {},
   "outputs": [],
   "source": [
    "with open('./resource/text3.txt', 'w') as f:\n",
    "    test = ['Kim\\n', 'Park\\n', 'Cho\\n']\n",
    "    f.writelines(test)"
   ]
  },
  {
   "cell_type": "code",
   "execution_count": 40,
   "id": "181fe9cc-1c34-4aa9-9400-cae4ac1f1062",
   "metadata": {},
   "outputs": [
    {
     "name": "stdout",
     "output_type": "stream",
     "text": [
      "Kim\n",
      "Park\n",
      "Cho\n"
     ]
    }
   ],
   "source": [
    "!type .\\resource\\text3.txt"
   ]
  },
  {
   "cell_type": "markdown",
   "id": "7484879e-944f-4f4c-9b56-d95a9651cefd",
   "metadata": {},
   "source": [
    "### Example 5"
   ]
  },
  {
   "cell_type": "code",
   "execution_count": 41,
   "id": "5e3b3505-88b3-4a54-97bf-ad2b67b4d640",
   "metadata": {},
   "outputs": [],
   "source": [
    "with open('./resource/text4.txt', 'w') as f:\n",
    "    print('test contests1!', file=f)\n",
    "    print('test contests2!', file=f)"
   ]
  },
  {
   "cell_type": "code",
   "execution_count": 42,
   "id": "9e6186c6-2a9d-4610-b3be-ef36c2ecb05a",
   "metadata": {},
   "outputs": [
    {
     "name": "stdout",
     "output_type": "stream",
     "text": [
      "test contests1!\n",
      "test contests2!\n"
     ]
    }
   ],
   "source": [
    "!type .\\resource\\text4.txt"
   ]
  },
  {
   "cell_type": "code",
   "execution_count": null,
   "id": "a2f0bbc3-e5aa-4f88-ac6f-0f8a8ebc7de9",
   "metadata": {},
   "outputs": [],
   "source": []
  }
 ],
 "metadata": {
  "kernelspec": {
   "display_name": "Python 3",
   "language": "python",
   "name": "python3"
  },
  "language_info": {
   "codemirror_mode": {
    "name": "ipython",
    "version": 3
   },
   "file_extension": ".py",
   "mimetype": "text/x-python",
   "name": "python",
   "nbconvert_exporter": "python",
   "pygments_lexer": "ipython3",
   "version": "3.7.10"
  }
 },
 "nbformat": 4,
 "nbformat_minor": 5
}
